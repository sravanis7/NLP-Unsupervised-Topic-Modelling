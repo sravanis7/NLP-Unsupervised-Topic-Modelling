{
 "cells": [
  {
   "cell_type": "code",
   "execution_count": 274,
   "metadata": {},
   "outputs": [],
   "source": [
    "import pandas as pd\n",
    "import numpy as np\n",
    "import re\n",
    "import time\n",
    "import os\n",
    "import gensim\n",
    "from gensim.test.utils import common_texts\n",
    "from gensim.corpora import Dictionary, MmCorpus\n",
    "from gensim.models.ldamulticore import LdaMulticore\n",
    "import nltk\n",
    "from nltk.corpus import stopwords\n",
    "#stopwords.words(\"said\", \"tri\",\"would\",\"could\",\"know\",\"how\" )\n",
    "\n",
    "stop_words = stopwords.words('english')\n",
    "stop_words.extend([\"going\",\"gone\",\"wife\",\"use\",\"take\",\"around\",\"ask\",\"go\",\"saying\",\"please\",\"said\", \"tri\",\"would\",\"could\",\"know\",\"how\",\"want\",\"say\",\"seem\",\"go\",\"etc\",\"incoming\",\"come\",\"talk\",\"due\",\"number\",\"edonkey\",\"suck\",\"also\",\"inbound\",\"since\",\"outgoing\",\"cut\",\"answer\",\"tell\",\"get\"])\n",
    "from nltk.stem import PorterStemmer, WordNetLemmatizer\n",
    "import pyLDAvis\n",
    "import pyLDAvis.gensim\n",
    "import warnings\n"
   ]
  },
  {
   "cell_type": "code",
   "execution_count": 275,
   "metadata": {
    "collapsed": true
   },
   "outputs": [],
   "source": [
    "path1=\"C://Users//Sravani//Desktop//biraj//With Blanks//processed//stream 1//\"\n",
    "# destination=\"C://Users//Sravani//Documents//Text Mining Workshop//Office//With Blanks//Processed\"\n",
    "# extension = 'csv'\n",
    "os.chdir(path1)\n"
   ]
  },
  {
   "cell_type": "code",
   "execution_count": 276,
   "metadata": {
    "collapsed": true
   },
   "outputs": [],
   "source": [
    "df1 = pd.read_excel(\"stream1_1.xlsx\")\n",
    "df2 = pd.read_excel(\"stream1_2.xlsx\")\n",
    "df3 = pd.read_excel(\"stream1_3.xlsx\")\n",
    "df4 = pd.read_excel(\"stream1_4.xlsx\")\n",
    "df5 = pd.read_excel(\"stream1_5.xlsx\")\n",
    "df6 = pd.read_excel(\"stream1_6.xlsx\")\n",
    "\n"
   ]
  },
  {
   "cell_type": "code",
   "execution_count": 277,
   "metadata": {
    "collapsed": true
   },
   "outputs": [],
   "source": [
    "\n",
    "path2=\"C://Users//Sravani//Desktop//biraj//With Blanks//processed//stream 2//\"\n",
    "os.chdir(path2)"
   ]
  },
  {
   "cell_type": "code",
   "execution_count": 278,
   "metadata": {
    "collapsed": true
   },
   "outputs": [],
   "source": [
    "df2_1 = pd.read_excel(\"stream2_1.xlsx\")\n",
    "df2_2 = pd.read_excel(\"stream2_2.xlsx\")\n",
    "df2_3 = pd.read_excel(\"stream2_3.xlsx\")\n",
    "df2_4 = pd.read_excel(\"stream2_4.xlsx\")\n",
    "df2_5 = pd.read_excel(\"stream2_5.xlsx\")"
   ]
  },
  {
   "cell_type": "code",
   "execution_count": 279,
   "metadata": {},
   "outputs": [
    {
     "name": "stdout",
     "output_type": "stream",
     "text": [
      "(8471, 8)\n"
     ]
    }
   ],
   "source": [
    "all_stream1 = pd.concat([df1,df2,df3,df4,df5,df6])\n",
    "print(all_stream1.shape)\n",
    "# all_stream1.to_excel(\"all_stream1.xlsx\", index=False)"
   ]
  },
  {
   "cell_type": "code",
   "execution_count": 280,
   "metadata": {},
   "outputs": [
    {
     "data": {
      "text/html": [
       "<div>\n",
       "<style>\n",
       "    .dataframe thead tr:only-child th {\n",
       "        text-align: right;\n",
       "    }\n",
       "\n",
       "    .dataframe thead th {\n",
       "        text-align: left;\n",
       "    }\n",
       "\n",
       "    .dataframe tbody tr th {\n",
       "        vertical-align: top;\n",
       "    }\n",
       "</style>\n",
       "<table border=\"1\" class=\"dataframe\">\n",
       "  <thead>\n",
       "    <tr style=\"text-align: right;\">\n",
       "      <th></th>\n",
       "      <th>IvpID</th>\n",
       "      <th>SubscriberKey</th>\n",
       "      <th>EmailName</th>\n",
       "      <th>EventDate</th>\n",
       "      <th>ZipCode</th>\n",
       "      <th>Sex</th>\n",
       "      <th>BirthDate</th>\n",
       "      <th>Hot Voice</th>\n",
       "    </tr>\n",
       "  </thead>\n",
       "  <tbody>\n",
       "    <tr>\n",
       "      <th>0</th>\n",
       "      <td>1038913</td>\n",
       "      <td>{DC0EE8C8-E808-4AAC-A7D9-25FD66B3963E}</td>\n",
       "      <td>GLO_HC1_1_welcome_D01</td>\n",
       "      <td>43313.5</td>\n",
       "      <td>6350804</td>\n",
       "      <td>1</td>\n",
       "      <td>28314</td>\n",
       "      <td>Working.</td>\n",
       "    </tr>\n",
       "    <tr>\n",
       "      <th>1</th>\n",
       "      <td>1069126</td>\n",
       "      <td>{83EEF674-D8DB-454F-B535-C2D8E7921E25}</td>\n",
       "      <td>GLO_HC1_1_welcome_D01</td>\n",
       "      <td>43313.5</td>\n",
       "      <td>3990023</td>\n",
       "      <td>1</td>\n",
       "      <td>26401</td>\n",
       "      <td>I want you to hold the battery a little longer.</td>\n",
       "    </tr>\n",
       "    <tr>\n",
       "      <th>2</th>\n",
       "      <td>1086009</td>\n",
       "      <td>{6966500D-416B-4475-9D75-F1A54DF41026}</td>\n",
       "      <td>GLO_HC1_1_welcome_D01</td>\n",
       "      <td>43313.5</td>\n",
       "      <td>6100114</td>\n",
       "      <td>1</td>\n",
       "      <td>22228</td>\n",
       "      <td>The taste does not last till the end. You shou...</td>\n",
       "    </tr>\n",
       "    <tr>\n",
       "      <th>3</th>\n",
       "      <td>720465</td>\n",
       "      <td>{02FF0E86-CE95-4CB7-9D00-06AB390302AD}</td>\n",
       "      <td>GLO_HC1_1_welcome_D01</td>\n",
       "      <td>43313.5</td>\n",
       "      <td>2140021</td>\n",
       "      <td>1</td>\n",
       "      <td>23336</td>\n",
       "      <td>It is said that you are still using cigarettes...</td>\n",
       "    </tr>\n",
       "    <tr>\n",
       "      <th>4</th>\n",
       "      <td>650149</td>\n",
       "      <td>{06426C64-E4A0-4757-8A31-7CAD2C61046D}</td>\n",
       "      <td>GLO_HC1_1_welcome_D01</td>\n",
       "      <td>43313.5</td>\n",
       "      <td>630002</td>\n",
       "      <td>1</td>\n",
       "      <td>31158</td>\n",
       "      <td>Yesterday, after returning, I got an answer.__...</td>\n",
       "    </tr>\n",
       "    <tr>\n",
       "      <th>5</th>\n",
       "      <td>210519</td>\n",
       "      <td>{09D7F151-30B0-497C-AB98-1A7A719D229E}</td>\n",
       "      <td>GLO_HC1_1_welcome_D01</td>\n",
       "      <td>43313.5</td>\n",
       "      <td>7092117</td>\n",
       "      <td>1</td>\n",
       "      <td>26740</td>\n",
       "      <td>There are times when the neostick is difficult...</td>\n",
       "    </tr>\n",
       "    <tr>\n",
       "      <th>6</th>\n",
       "      <td>813435</td>\n",
       "      <td>{46723C75-885C-49A8-BBAE-79FD78355F87}</td>\n",
       "      <td>GLO_HC1_1_welcome_D01</td>\n",
       "      <td>43313.5</td>\n",
       "      <td>9201302</td>\n",
       "      <td>2</td>\n",
       "      <td>29497</td>\n",
       "      <td>What I am using now is a newly arrived replace...</td>\n",
       "    </tr>\n",
       "    <tr>\n",
       "      <th>7</th>\n",
       "      <td>136046</td>\n",
       "      <td>{5DC04C78-397B-440F-81D3-69D73E28A24A}</td>\n",
       "      <td>GLO_HC1_1_welcome_D01</td>\n",
       "      <td>43313.5</td>\n",
       "      <td>9840056</td>\n",
       "      <td>1</td>\n",
       "      <td>32261</td>\n",
       "      <td>Incoming callWe will inform you of TEL of inqu...</td>\n",
       "    </tr>\n",
       "    <tr>\n",
       "      <th>8</th>\n",
       "      <td>383118</td>\n",
       "      <td>{632CD26E-2DFB-4072-9CB6-3A7FEFAFCF6A}</td>\n",
       "      <td>GLO_HC1_1_welcome_D01</td>\n",
       "      <td>43313.5</td>\n",
       "      <td>520-2141</td>\n",
       "      <td>1</td>\n",
       "      <td>26328</td>\n",
       "      <td>ICOS combined use / occasionally cigarette use</td>\n",
       "    </tr>\n",
       "    <tr>\n",
       "      <th>9</th>\n",
       "      <td>94104</td>\n",
       "      <td>{68F300DA-AB74-4290-8F8B-017D4DCC3CC7}</td>\n",
       "      <td>GLO_HC1_1_welcome_D01</td>\n",
       "      <td>43313.5</td>\n",
       "      <td>9811246</td>\n",
       "      <td>1</td>\n",
       "      <td>33935</td>\n",
       "      <td>I am busy now.</td>\n",
       "    </tr>\n",
       "    <tr>\n",
       "      <th>10</th>\n",
       "      <td>94104</td>\n",
       "      <td>{68F300DA-AB74-4290-8F8B-017D4DCC3CC7}</td>\n",
       "      <td>GLO_HC1_1_welcome_D01</td>\n",
       "      <td>43313.5</td>\n",
       "      <td>9811246</td>\n",
       "      <td>1</td>\n",
       "      <td>33935</td>\n",
       "      <td>Because it is driving</td>\n",
       "    </tr>\n",
       "    <tr>\n",
       "      <th>11</th>\n",
       "      <td>327757</td>\n",
       "      <td>{6DBF34FF-59EF-42BE-96A6-7EF44B37125D}</td>\n",
       "      <td>GLO_HC1_1_welcome_D01</td>\n",
       "      <td>43313.5</td>\n",
       "      <td>3200834</td>\n",
       "      <td>1</td>\n",
       "      <td>27348</td>\n",
       "      <td>Incoming callI did not know the point program ...</td>\n",
       "    </tr>\n",
       "    <tr>\n",
       "      <th>12</th>\n",
       "      <td>178483</td>\n",
       "      <td>{73FB03DE-7C31-4CC7-8F76-9450FA17A416}</td>\n",
       "      <td>GLO_HC1_1_welcome_D01</td>\n",
       "      <td>43313.5</td>\n",
       "      <td>5200862</td>\n",
       "      <td>2</td>\n",
       "      <td>24764</td>\n",
       "      <td>Impression that the main body malfunctions</td>\n",
       "    </tr>\n",
       "    <tr>\n",
       "      <th>13</th>\n",
       "      <td>173400</td>\n",
       "      <td>{BE619B3E-CA74-4834-AE9A-071273836600}</td>\n",
       "      <td>GLO_HC1_1_welcome_D01</td>\n",
       "      <td>43313.5</td>\n",
       "      <td>6760043</td>\n",
       "      <td>1</td>\n",
       "      <td>24857</td>\n",
       "      <td>There is a demand for wanting to extend the ov...</td>\n",
       "    </tr>\n",
       "    <tr>\n",
       "      <th>14</th>\n",
       "      <td>549741</td>\n",
       "      <td>{C5548636-5EB5-437C-B56E-789054B48FF7}</td>\n",
       "      <td>GLO_HC1_1_welcome_D01</td>\n",
       "      <td>43313.5</td>\n",
       "      <td>1100003</td>\n",
       "      <td>1</td>\n",
       "      <td>21792</td>\n",
       "      <td>Call sound only</td>\n",
       "    </tr>\n",
       "    <tr>\n",
       "      <th>15</th>\n",
       "      <td>1206461</td>\n",
       "      <td>{A0A38475-4031-4486-A975-C19EE16F5FED}</td>\n",
       "      <td>GLO_HC1_1_welcome_D01</td>\n",
       "      <td>43313.5</td>\n",
       "      <td>3210913</td>\n",
       "      <td>1</td>\n",
       "      <td>28838</td>\n",
       "      <td>Plume Tec taste bored and now glo center use</td>\n",
       "    </tr>\n",
       "    <tr>\n",
       "      <th>16</th>\n",
       "      <td>1216001</td>\n",
       "      <td>{F4EC8025-B850-4A9D-A1FA-1A0A1C4B7A6E}</td>\n",
       "      <td>GLO_HC1_1_welcome_D01</td>\n",
       "      <td>43313.5</td>\n",
       "      <td>2130001</td>\n",
       "      <td>1</td>\n",
       "      <td>32174</td>\n",
       "      <td>busy</td>\n",
       "    </tr>\n",
       "    <tr>\n",
       "      <th>17</th>\n",
       "      <td>1218043</td>\n",
       "      <td>{480A1F70-01A1-4B0D-AA14-5D71639D0683}</td>\n",
       "      <td>GLO_HC1_1_welcome_D01</td>\n",
       "      <td>43313.5</td>\n",
       "      <td>3250032</td>\n",
       "      <td>1</td>\n",
       "      <td>29189</td>\n",
       "      <td>Call sound only</td>\n",
       "    </tr>\n",
       "    <tr>\n",
       "      <th>18</th>\n",
       "      <td>1223293</td>\n",
       "      <td>{02855B29-F407-45C9-9173-D471F6791E15}</td>\n",
       "      <td>GLO_HC1_1_welcome_D01</td>\n",
       "      <td>43313.5</td>\n",
       "      <td>6752423</td>\n",
       "      <td>2</td>\n",
       "      <td>32368</td>\n",
       "      <td>Receipt number 0708501 / There is a fault, Tod...</td>\n",
       "    </tr>\n",
       "    <tr>\n",
       "      <th>19</th>\n",
       "      <td>1223717</td>\n",
       "      <td>{3107FBC3-D74F-42B4-8F61-57B6EFBAAB9B}</td>\n",
       "      <td>GLO_HC1_1_welcome_D01</td>\n",
       "      <td>43313.5</td>\n",
       "      <td>8000022</td>\n",
       "      <td>1</td>\n",
       "      <td>32790</td>\n",
       "      <td>Call sound only</td>\n",
       "    </tr>\n",
       "  </tbody>\n",
       "</table>\n",
       "</div>"
      ],
      "text/plain": [
       "      IvpID                           SubscriberKey              EmailName  \\\n",
       "0   1038913  {DC0EE8C8-E808-4AAC-A7D9-25FD66B3963E}  GLO_HC1_1_welcome_D01   \n",
       "1   1069126  {83EEF674-D8DB-454F-B535-C2D8E7921E25}  GLO_HC1_1_welcome_D01   \n",
       "2   1086009  {6966500D-416B-4475-9D75-F1A54DF41026}  GLO_HC1_1_welcome_D01   \n",
       "3    720465  {02FF0E86-CE95-4CB7-9D00-06AB390302AD}  GLO_HC1_1_welcome_D01   \n",
       "4    650149  {06426C64-E4A0-4757-8A31-7CAD2C61046D}  GLO_HC1_1_welcome_D01   \n",
       "5    210519  {09D7F151-30B0-497C-AB98-1A7A719D229E}  GLO_HC1_1_welcome_D01   \n",
       "6    813435  {46723C75-885C-49A8-BBAE-79FD78355F87}  GLO_HC1_1_welcome_D01   \n",
       "7    136046  {5DC04C78-397B-440F-81D3-69D73E28A24A}  GLO_HC1_1_welcome_D01   \n",
       "8    383118  {632CD26E-2DFB-4072-9CB6-3A7FEFAFCF6A}  GLO_HC1_1_welcome_D01   \n",
       "9     94104  {68F300DA-AB74-4290-8F8B-017D4DCC3CC7}  GLO_HC1_1_welcome_D01   \n",
       "10    94104  {68F300DA-AB74-4290-8F8B-017D4DCC3CC7}  GLO_HC1_1_welcome_D01   \n",
       "11   327757  {6DBF34FF-59EF-42BE-96A6-7EF44B37125D}  GLO_HC1_1_welcome_D01   \n",
       "12   178483  {73FB03DE-7C31-4CC7-8F76-9450FA17A416}  GLO_HC1_1_welcome_D01   \n",
       "13   173400  {BE619B3E-CA74-4834-AE9A-071273836600}  GLO_HC1_1_welcome_D01   \n",
       "14   549741  {C5548636-5EB5-437C-B56E-789054B48FF7}  GLO_HC1_1_welcome_D01   \n",
       "15  1206461  {A0A38475-4031-4486-A975-C19EE16F5FED}  GLO_HC1_1_welcome_D01   \n",
       "16  1216001  {F4EC8025-B850-4A9D-A1FA-1A0A1C4B7A6E}  GLO_HC1_1_welcome_D01   \n",
       "17  1218043  {480A1F70-01A1-4B0D-AA14-5D71639D0683}  GLO_HC1_1_welcome_D01   \n",
       "18  1223293  {02855B29-F407-45C9-9173-D471F6791E15}  GLO_HC1_1_welcome_D01   \n",
       "19  1223717  {3107FBC3-D74F-42B4-8F61-57B6EFBAAB9B}  GLO_HC1_1_welcome_D01   \n",
       "\n",
       "   EventDate   ZipCode  Sex BirthDate  \\\n",
       "0    43313.5   6350804    1     28314   \n",
       "1    43313.5   3990023    1     26401   \n",
       "2    43313.5   6100114    1     22228   \n",
       "3    43313.5   2140021    1     23336   \n",
       "4    43313.5    630002    1     31158   \n",
       "5    43313.5   7092117    1     26740   \n",
       "6    43313.5   9201302    2     29497   \n",
       "7    43313.5   9840056    1     32261   \n",
       "8    43313.5  520-2141    1     26328   \n",
       "9    43313.5   9811246    1     33935   \n",
       "10   43313.5   9811246    1     33935   \n",
       "11   43313.5   3200834    1     27348   \n",
       "12   43313.5   5200862    2     24764   \n",
       "13   43313.5   6760043    1     24857   \n",
       "14   43313.5   1100003    1     21792   \n",
       "15   43313.5   3210913    1     28838   \n",
       "16   43313.5   2130001    1     32174   \n",
       "17   43313.5   3250032    1     29189   \n",
       "18   43313.5   6752423    2     32368   \n",
       "19   43313.5   8000022    1     32790   \n",
       "\n",
       "                                            Hot Voice  \n",
       "0                                            Working.  \n",
       "1     I want you to hold the battery a little longer.  \n",
       "2   The taste does not last till the end. You shou...  \n",
       "3   It is said that you are still using cigarettes...  \n",
       "4   Yesterday, after returning, I got an answer.__...  \n",
       "5   There are times when the neostick is difficult...  \n",
       "6   What I am using now is a newly arrived replace...  \n",
       "7   Incoming callWe will inform you of TEL of inqu...  \n",
       "8      ICOS combined use / occasionally cigarette use  \n",
       "9                                      I am busy now.  \n",
       "10                              Because it is driving  \n",
       "11  Incoming callI did not know the point program ...  \n",
       "12         Impression that the main body malfunctions  \n",
       "13  There is a demand for wanting to extend the ov...  \n",
       "14                                    Call sound only  \n",
       "15       Plume Tec taste bored and now glo center use  \n",
       "16                                               busy  \n",
       "17                                    Call sound only  \n",
       "18  Receipt number 0708501 / There is a fault, Tod...  \n",
       "19                                    Call sound only  "
      ]
     },
     "execution_count": 280,
     "metadata": {},
     "output_type": "execute_result"
    }
   ],
   "source": [
    "all_stream1.head(20)"
   ]
  },
  {
   "cell_type": "code",
   "execution_count": 281,
   "metadata": {},
   "outputs": [
    {
     "name": "stdout",
     "output_type": "stream",
     "text": [
      "(4353, 8)\n"
     ]
    }
   ],
   "source": [
    "all_stream2=pd.concat([df2_1,df2_2,df2_3,df2_4,df2_5])\n",
    "print(all_stream2.shape)\n",
    "# all_stream2.to_excel(\"all_stream2.xlsx\", index=False)"
   ]
  },
  {
   "cell_type": "code",
   "execution_count": 282,
   "metadata": {
    "collapsed": true
   },
   "outputs": [],
   "source": [
    "combined=pd.concat([all_stream1,all_stream2])\n",
    "# combined.to_excel(\"combined.xlsx\", index=False)"
   ]
  },
  {
   "cell_type": "code",
   "execution_count": 283,
   "metadata": {},
   "outputs": [
    {
     "data": {
      "text/plain": [
       "(12824, 8)"
      ]
     },
     "execution_count": 283,
     "metadata": {},
     "output_type": "execute_result"
    }
   ],
   "source": [
    "combined.shape"
   ]
  },
  {
   "cell_type": "code",
   "execution_count": 284,
   "metadata": {
    "collapsed": true
   },
   "outputs": [],
   "source": [
    "def clean_text(text):\n",
    "    text = text.lower()\n",
    "    text = re.sub(r\"\\'s\", \"is\", text)\n",
    "    text = re.sub(r\"\\'ve\", \" have\", text)\n",
    "    text = re.sub(r\"'t\", \" not\", text)\n",
    "    text = re.sub(r\"i'm\", \"i am\", text)\n",
    "    text = re.sub(r\"\\'re\", \" are\", text)\n",
    "    text = re.sub(r\"\\'d\", \" would\", text)\n",
    "    text = re.sub(r\"\\'ll\", \" will\", text)\n",
    "    text = re.sub(r\"\\(\", \"\", text)\n",
    "    text = re.sub(r\"\\)\", \"\", text)\n",
    "    text = re.sub(r'\\W', ' ', text)\n",
    "    text = re.sub(r'\\s+', ' ', text)\n",
    "#     text = text.strip(' ')\n",
    "    return text\n",
    "\n",
    "combined['Hot Voice'] = combined['Hot Voice'].map(lambda a : clean_text(a))"
   ]
  },
  {
   "cell_type": "code",
   "execution_count": 285,
   "metadata": {
    "collapsed": true
   },
   "outputs": [],
   "source": [
    "all_stream2['Hot Voice'] = all_stream2['Hot Voice'].map(lambda a : clean_text(a))\n",
    "all_stream1['Hot Voice'] = all_stream1['Hot Voice'].map(lambda a : clean_text(a))\n",
    "\n",
    "df=all_stream2\n",
    "\n"
   ]
  },
  {
   "cell_type": "code",
   "execution_count": 286,
   "metadata": {},
   "outputs": [
    {
     "data": {
      "text/plain": [
       "0     [registered, wifeis, employer, absence, master...\n",
       "1                                  [taking, call, call]\n",
       "2                                    [nothing, special]\n",
       "3                               [entering, electricity]\n",
       "4                             [two, calls, electricity]\n",
       "5        [cash, back, relief, inquiries, case, created]\n",
       "6                                   [failed, translate]\n",
       "7                [talking, finishing, talking, talking]\n",
       "8          [point, program, applied, yet, think, apply]\n",
       "9                             [immediately, connection]\n",
       "10    [like, second, third, cuts, little, later, bec...\n",
       "11    [cleaning, method, difficult, understand, meth...\n",
       "12                                   [called, 6, calls]\n",
       "13    [choosing, things, tried, similar, kent, 1, ci...\n",
       "14    [compared, icos, one, time, short, like, glow,...\n",
       "15                                               [work]\n",
       "16                            [feeling, unsatisfactory]\n",
       "17    [registered, phone, enough, one, digit, even, ...\n",
       "18                  [answered, previous, questionnaire]\n",
       "19                                 [announcement, gets]\n",
       "20                                         [tar, occur]\n",
       "21    [menthol, notes, strong, ones, recommended, st...\n",
       "22    [priority, issues, calls, return, charge, fini...\n",
       "23                                       [feel, smoked]\n",
       "24                                   [nothing, special]\n",
       "25    [regarding, past, replacement, items, nothing,...\n",
       "26                   [nothing, particular, combination]\n",
       "27                                   [almost, glo, one]\n",
       "28    [question, way, cleaning, guidance, becoming, ...\n",
       "29                                   [gets, two, calls]\n",
       "30                                            [driving]\n",
       "31                   [nothing, particular, combination]\n",
       "32                                  [failed, translate]\n",
       "33      [using, glo, like, point, program, like, apply]\n",
       "34    [combined, paper, cigarettes, response, respon...\n",
       "35             [work, comes, saturday, recall, setting]\n",
       "36    [2018, 01, unregistered, main, unit, failure, ...\n",
       "37    [incompatibilities, companies, products, icico...\n",
       "38    [battery, duration, short, exchange, accepted,...\n",
       "39    [tried, neo, good, however, still, disadvantag...\n",
       "Name: Hot Voice, dtype: object"
      ]
     },
     "execution_count": 286,
     "metadata": {},
     "output_type": "execute_result"
    }
   ],
   "source": [
    "#Performing tokenization and removing stop words\n",
    "def pre_process(text):\n",
    "    tokens = str(text)\n",
    "    tokens = nltk.word_tokenize(tokens)\n",
    "    tokens=[t for t in tokens if t not in stop_words]\n",
    "    return(tokens)\n",
    "\n",
    "df['Hot Voice'] = df['Hot Voice'].apply(pre_process)\n",
    "df['Hot Voice'].head(40)"
   ]
  },
  {
   "cell_type": "code",
   "execution_count": 220,
   "metadata": {},
   "outputs": [
    {
     "data": {
      "text/plain": [
       "'C:\\\\Users\\\\Sravani\\\\Desktop\\\\biraj\\\\With Blanks\\\\processed\\\\stream 2'"
      ]
     },
     "execution_count": 220,
     "metadata": {},
     "output_type": "execute_result"
    }
   ],
   "source": [
    "os.getcwd()"
   ]
  },
  {
   "cell_type": "code",
   "execution_count": 83,
   "metadata": {
    "collapsed": true
   },
   "outputs": [],
   "source": [
    "df.to_excel(\"check.xlsx\", index=False)"
   ]
  },
  {
   "cell_type": "code",
   "execution_count": 287,
   "metadata": {
    "collapsed": true
   },
   "outputs": [],
   "source": [
    "porter = nltk.PorterStemmer()\n",
    "a=[]\n",
    "\n",
    "for i, rows in df['Hot Voice'].iteritems():\n",
    "#     print(rows)\n",
    "    tokens_porter=[ porter.stem(t) for t in rows] \n",
    "    a.append(tokens_porter)\n",
    "df['stemmed']=a"
   ]
  },
  {
   "cell_type": "code",
   "execution_count": 288,
   "metadata": {
    "scrolled": true
   },
   "outputs": [
    {
     "data": {
      "text/plain": [
       "0    [regist, wifei, employ, absenc, masteri, owner...\n",
       "1                                   [take, call, call]\n",
       "2                                      [noth, special]\n",
       "3                                      [enter, electr]\n",
       "4                                  [two, call, electr]\n",
       "Name: stemmed, dtype: object"
      ]
     },
     "execution_count": 288,
     "metadata": {},
     "output_type": "execute_result"
    }
   ],
   "source": [
    "df['stemmed'].head()"
   ]
  },
  {
   "cell_type": "code",
   "execution_count": 289,
   "metadata": {
    "collapsed": true
   },
   "outputs": [],
   "source": [
    "#construct dictionary\n",
    "common_dictionary = Dictionary(df['stemmed'])"
   ]
  },
  {
   "cell_type": "code",
   "execution_count": 290,
   "metadata": {
    "collapsed": true
   },
   "outputs": [],
   "source": [
    "#remove keywords having count less than 10 or is present in more than 40% of the dataset\n",
    "common_dictionary.filter_extremes(no_below=10, no_above=0.4)"
   ]
  },
  {
   "cell_type": "code",
   "execution_count": 291,
   "metadata": {
    "collapsed": true
   },
   "outputs": [],
   "source": [
    "#Construct bag of words from dictionary\n",
    "dtm_train = [common_dictionary.doc2bow(d) for d in df['stemmed']]"
   ]
  },
  {
   "cell_type": "code",
   "execution_count": 292,
   "metadata": {
    "scrolled": true
   },
   "outputs": [
    {
     "name": "stderr",
     "output_type": "stream",
     "text": [
      "C:\\Users\\Sravani\\Anaconda3\\lib\\site-packages\\gensim\\models\\ldamodel.py:1077: DeprecationWarning: Calling np.sum(generator) is deprecated, and in the future will give a different result. Use np.sum(np.from_iter(generator)) or the python sum builtin instead.\n",
      "  score += np.sum(cnt * logsumexp(Elogthetad + Elogbeta[:, int(id)]) for id, cnt in doc)\n",
      "C:\\Users\\Sravani\\Anaconda3\\lib\\site-packages\\gensim\\models\\ldamodel.py:1077: DeprecationWarning: Calling np.sum(generator) is deprecated, and in the future will give a different result. Use np.sum(np.from_iter(generator)) or the python sum builtin instead.\n",
      "  score += np.sum(cnt * logsumexp(Elogthetad + Elogbeta[:, int(id)]) for id, cnt in doc)\n",
      "C:\\Users\\Sravani\\Anaconda3\\lib\\site-packages\\gensim\\models\\ldamodel.py:1077: DeprecationWarning: Calling np.sum(generator) is deprecated, and in the future will give a different result. Use np.sum(np.from_iter(generator)) or the python sum builtin instead.\n",
      "  score += np.sum(cnt * logsumexp(Elogthetad + Elogbeta[:, int(id)]) for id, cnt in doc)\n",
      "C:\\Users\\Sravani\\Anaconda3\\lib\\site-packages\\gensim\\models\\ldamodel.py:1077: DeprecationWarning: Calling np.sum(generator) is deprecated, and in the future will give a different result. Use np.sum(np.from_iter(generator)) or the python sum builtin instead.\n",
      "  score += np.sum(cnt * logsumexp(Elogthetad + Elogbeta[:, int(id)]) for id, cnt in doc)\n",
      "C:\\Users\\Sravani\\Anaconda3\\lib\\site-packages\\gensim\\models\\ldamodel.py:1077: DeprecationWarning: Calling np.sum(generator) is deprecated, and in the future will give a different result. Use np.sum(np.from_iter(generator)) or the python sum builtin instead.\n",
      "  score += np.sum(cnt * logsumexp(Elogthetad + Elogbeta[:, int(id)]) for id, cnt in doc)\n",
      "C:\\Users\\Sravani\\Anaconda3\\lib\\site-packages\\gensim\\models\\ldamodel.py:1077: DeprecationWarning: Calling np.sum(generator) is deprecated, and in the future will give a different result. Use np.sum(np.from_iter(generator)) or the python sum builtin instead.\n",
      "  score += np.sum(cnt * logsumexp(Elogthetad + Elogbeta[:, int(id)]) for id, cnt in doc)\n",
      "C:\\Users\\Sravani\\Anaconda3\\lib\\site-packages\\gensim\\models\\ldamodel.py:1077: DeprecationWarning: Calling np.sum(generator) is deprecated, and in the future will give a different result. Use np.sum(np.from_iter(generator)) or the python sum builtin instead.\n",
      "  score += np.sum(cnt * logsumexp(Elogthetad + Elogbeta[:, int(id)]) for id, cnt in doc)\n",
      "C:\\Users\\Sravani\\Anaconda3\\lib\\site-packages\\gensim\\models\\ldamodel.py:1077: DeprecationWarning: Calling np.sum(generator) is deprecated, and in the future will give a different result. Use np.sum(np.from_iter(generator)) or the python sum builtin instead.\n",
      "  score += np.sum(cnt * logsumexp(Elogthetad + Elogbeta[:, int(id)]) for id, cnt in doc)\n",
      "C:\\Users\\Sravani\\Anaconda3\\lib\\site-packages\\gensim\\models\\ldamodel.py:1077: DeprecationWarning: Calling np.sum(generator) is deprecated, and in the future will give a different result. Use np.sum(np.from_iter(generator)) or the python sum builtin instead.\n",
      "  score += np.sum(cnt * logsumexp(Elogthetad + Elogbeta[:, int(id)]) for id, cnt in doc)\n",
      "C:\\Users\\Sravani\\Anaconda3\\lib\\site-packages\\gensim\\models\\ldamodel.py:1077: DeprecationWarning: Calling np.sum(generator) is deprecated, and in the future will give a different result. Use np.sum(np.from_iter(generator)) or the python sum builtin instead.\n",
      "  score += np.sum(cnt * logsumexp(Elogthetad + Elogbeta[:, int(id)]) for id, cnt in doc)\n",
      "C:\\Users\\Sravani\\Anaconda3\\lib\\site-packages\\gensim\\models\\ldamodel.py:1077: DeprecationWarning: Calling np.sum(generator) is deprecated, and in the future will give a different result. Use np.sum(np.from_iter(generator)) or the python sum builtin instead.\n",
      "  score += np.sum(cnt * logsumexp(Elogthetad + Elogbeta[:, int(id)]) for id, cnt in doc)\n",
      "C:\\Users\\Sravani\\Anaconda3\\lib\\site-packages\\gensim\\models\\ldamodel.py:1077: DeprecationWarning: Calling np.sum(generator) is deprecated, and in the future will give a different result. Use np.sum(np.from_iter(generator)) or the python sum builtin instead.\n",
      "  score += np.sum(cnt * logsumexp(Elogthetad + Elogbeta[:, int(id)]) for id, cnt in doc)\n",
      "C:\\Users\\Sravani\\Anaconda3\\lib\\site-packages\\gensim\\models\\ldamodel.py:1077: DeprecationWarning: Calling np.sum(generator) is deprecated, and in the future will give a different result. Use np.sum(np.from_iter(generator)) or the python sum builtin instead.\n",
      "  score += np.sum(cnt * logsumexp(Elogthetad + Elogbeta[:, int(id)]) for id, cnt in doc)\n",
      "C:\\Users\\Sravani\\Anaconda3\\lib\\site-packages\\gensim\\models\\ldamodel.py:1077: DeprecationWarning: Calling np.sum(generator) is deprecated, and in the future will give a different result. Use np.sum(np.from_iter(generator)) or the python sum builtin instead.\n",
      "  score += np.sum(cnt * logsumexp(Elogthetad + Elogbeta[:, int(id)]) for id, cnt in doc)\n",
      "C:\\Users\\Sravani\\Anaconda3\\lib\\site-packages\\gensim\\models\\ldamodel.py:1077: DeprecationWarning: Calling np.sum(generator) is deprecated, and in the future will give a different result. Use np.sum(np.from_iter(generator)) or the python sum builtin instead.\n",
      "  score += np.sum(cnt * logsumexp(Elogthetad + Elogbeta[:, int(id)]) for id, cnt in doc)\n",
      "C:\\Users\\Sravani\\Anaconda3\\lib\\site-packages\\gensim\\models\\ldamodel.py:1077: DeprecationWarning: Calling np.sum(generator) is deprecated, and in the future will give a different result. Use np.sum(np.from_iter(generator)) or the python sum builtin instead.\n",
      "  score += np.sum(cnt * logsumexp(Elogthetad + Elogbeta[:, int(id)]) for id, cnt in doc)\n",
      "C:\\Users\\Sravani\\Anaconda3\\lib\\site-packages\\gensim\\models\\ldamodel.py:1077: DeprecationWarning: Calling np.sum(generator) is deprecated, and in the future will give a different result. Use np.sum(np.from_iter(generator)) or the python sum builtin instead.\n",
      "  score += np.sum(cnt * logsumexp(Elogthetad + Elogbeta[:, int(id)]) for id, cnt in doc)\n",
      "C:\\Users\\Sravani\\Anaconda3\\lib\\site-packages\\gensim\\models\\ldamodel.py:1077: DeprecationWarning: Calling np.sum(generator) is deprecated, and in the future will give a different result. Use np.sum(np.from_iter(generator)) or the python sum builtin instead.\n",
      "  score += np.sum(cnt * logsumexp(Elogthetad + Elogbeta[:, int(id)]) for id, cnt in doc)\n",
      "C:\\Users\\Sravani\\Anaconda3\\lib\\site-packages\\gensim\\models\\ldamodel.py:1077: DeprecationWarning: Calling np.sum(generator) is deprecated, and in the future will give a different result. Use np.sum(np.from_iter(generator)) or the python sum builtin instead.\n",
      "  score += np.sum(cnt * logsumexp(Elogthetad + Elogbeta[:, int(id)]) for id, cnt in doc)\n",
      "C:\\Users\\Sravani\\Anaconda3\\lib\\site-packages\\gensim\\models\\ldamodel.py:1077: DeprecationWarning: Calling np.sum(generator) is deprecated, and in the future will give a different result. Use np.sum(np.from_iter(generator)) or the python sum builtin instead.\n",
      "  score += np.sum(cnt * logsumexp(Elogthetad + Elogbeta[:, int(id)]) for id, cnt in doc)\n",
      "C:\\Users\\Sravani\\Anaconda3\\lib\\site-packages\\gensim\\models\\ldamodel.py:1077: DeprecationWarning: Calling np.sum(generator) is deprecated, and in the future will give a different result. Use np.sum(np.from_iter(generator)) or the python sum builtin instead.\n",
      "  score += np.sum(cnt * logsumexp(Elogthetad + Elogbeta[:, int(id)]) for id, cnt in doc)\n",
      "C:\\Users\\Sravani\\Anaconda3\\lib\\site-packages\\gensim\\models\\ldamodel.py:1077: DeprecationWarning: Calling np.sum(generator) is deprecated, and in the future will give a different result. Use np.sum(np.from_iter(generator)) or the python sum builtin instead.\n",
      "  score += np.sum(cnt * logsumexp(Elogthetad + Elogbeta[:, int(id)]) for id, cnt in doc)\n",
      "C:\\Users\\Sravani\\Anaconda3\\lib\\site-packages\\gensim\\models\\ldamodel.py:1077: DeprecationWarning: Calling np.sum(generator) is deprecated, and in the future will give a different result. Use np.sum(np.from_iter(generator)) or the python sum builtin instead.\n",
      "  score += np.sum(cnt * logsumexp(Elogthetad + Elogbeta[:, int(id)]) for id, cnt in doc)\n",
      "C:\\Users\\Sravani\\Anaconda3\\lib\\site-packages\\gensim\\models\\ldamodel.py:1077: DeprecationWarning: Calling np.sum(generator) is deprecated, and in the future will give a different result. Use np.sum(np.from_iter(generator)) or the python sum builtin instead.\n",
      "  score += np.sum(cnt * logsumexp(Elogthetad + Elogbeta[:, int(id)]) for id, cnt in doc)\n"
     ]
    },
    {
     "name": "stderr",
     "output_type": "stream",
     "text": [
      "C:\\Users\\Sravani\\Anaconda3\\lib\\site-packages\\gensim\\models\\ldamodel.py:1077: DeprecationWarning: Calling np.sum(generator) is deprecated, and in the future will give a different result. Use np.sum(np.from_iter(generator)) or the python sum builtin instead.\n",
      "  score += np.sum(cnt * logsumexp(Elogthetad + Elogbeta[:, int(id)]) for id, cnt in doc)\n",
      "C:\\Users\\Sravani\\Anaconda3\\lib\\site-packages\\gensim\\models\\ldamodel.py:1077: DeprecationWarning: Calling np.sum(generator) is deprecated, and in the future will give a different result. Use np.sum(np.from_iter(generator)) or the python sum builtin instead.\n",
      "  score += np.sum(cnt * logsumexp(Elogthetad + Elogbeta[:, int(id)]) for id, cnt in doc)\n",
      "C:\\Users\\Sravani\\Anaconda3\\lib\\site-packages\\gensim\\models\\ldamodel.py:1077: DeprecationWarning: Calling np.sum(generator) is deprecated, and in the future will give a different result. Use np.sum(np.from_iter(generator)) or the python sum builtin instead.\n",
      "  score += np.sum(cnt * logsumexp(Elogthetad + Elogbeta[:, int(id)]) for id, cnt in doc)\n",
      "C:\\Users\\Sravani\\Anaconda3\\lib\\site-packages\\gensim\\models\\ldamodel.py:1077: DeprecationWarning: Calling np.sum(generator) is deprecated, and in the future will give a different result. Use np.sum(np.from_iter(generator)) or the python sum builtin instead.\n",
      "  score += np.sum(cnt * logsumexp(Elogthetad + Elogbeta[:, int(id)]) for id, cnt in doc)\n",
      "C:\\Users\\Sravani\\Anaconda3\\lib\\site-packages\\gensim\\models\\ldamodel.py:1077: DeprecationWarning: Calling np.sum(generator) is deprecated, and in the future will give a different result. Use np.sum(np.from_iter(generator)) or the python sum builtin instead.\n",
      "  score += np.sum(cnt * logsumexp(Elogthetad + Elogbeta[:, int(id)]) for id, cnt in doc)\n",
      "C:\\Users\\Sravani\\Anaconda3\\lib\\site-packages\\gensim\\models\\ldamodel.py:1077: DeprecationWarning: Calling np.sum(generator) is deprecated, and in the future will give a different result. Use np.sum(np.from_iter(generator)) or the python sum builtin instead.\n",
      "  score += np.sum(cnt * logsumexp(Elogthetad + Elogbeta[:, int(id)]) for id, cnt in doc)\n",
      "C:\\Users\\Sravani\\Anaconda3\\lib\\site-packages\\gensim\\models\\ldamodel.py:1077: DeprecationWarning: Calling np.sum(generator) is deprecated, and in the future will give a different result. Use np.sum(np.from_iter(generator)) or the python sum builtin instead.\n",
      "  score += np.sum(cnt * logsumexp(Elogthetad + Elogbeta[:, int(id)]) for id, cnt in doc)\n",
      "C:\\Users\\Sravani\\Anaconda3\\lib\\site-packages\\gensim\\models\\ldamodel.py:1077: DeprecationWarning: Calling np.sum(generator) is deprecated, and in the future will give a different result. Use np.sum(np.from_iter(generator)) or the python sum builtin instead.\n",
      "  score += np.sum(cnt * logsumexp(Elogthetad + Elogbeta[:, int(id)]) for id, cnt in doc)\n",
      "C:\\Users\\Sravani\\Anaconda3\\lib\\site-packages\\gensim\\models\\ldamodel.py:1077: DeprecationWarning: Calling np.sum(generator) is deprecated, and in the future will give a different result. Use np.sum(np.from_iter(generator)) or the python sum builtin instead.\n",
      "  score += np.sum(cnt * logsumexp(Elogthetad + Elogbeta[:, int(id)]) for id, cnt in doc)\n",
      "C:\\Users\\Sravani\\Anaconda3\\lib\\site-packages\\gensim\\models\\ldamodel.py:1077: DeprecationWarning: Calling np.sum(generator) is deprecated, and in the future will give a different result. Use np.sum(np.from_iter(generator)) or the python sum builtin instead.\n",
      "  score += np.sum(cnt * logsumexp(Elogthetad + Elogbeta[:, int(id)]) for id, cnt in doc)\n",
      "C:\\Users\\Sravani\\Anaconda3\\lib\\site-packages\\gensim\\models\\ldamodel.py:1077: DeprecationWarning: Calling np.sum(generator) is deprecated, and in the future will give a different result. Use np.sum(np.from_iter(generator)) or the python sum builtin instead.\n",
      "  score += np.sum(cnt * logsumexp(Elogthetad + Elogbeta[:, int(id)]) for id, cnt in doc)\n",
      "C:\\Users\\Sravani\\Anaconda3\\lib\\site-packages\\gensim\\models\\ldamodel.py:1077: DeprecationWarning: Calling np.sum(generator) is deprecated, and in the future will give a different result. Use np.sum(np.from_iter(generator)) or the python sum builtin instead.\n",
      "  score += np.sum(cnt * logsumexp(Elogthetad + Elogbeta[:, int(id)]) for id, cnt in doc)\n",
      "C:\\Users\\Sravani\\Anaconda3\\lib\\site-packages\\gensim\\models\\ldamodel.py:1077: DeprecationWarning: Calling np.sum(generator) is deprecated, and in the future will give a different result. Use np.sum(np.from_iter(generator)) or the python sum builtin instead.\n",
      "  score += np.sum(cnt * logsumexp(Elogthetad + Elogbeta[:, int(id)]) for id, cnt in doc)\n",
      "C:\\Users\\Sravani\\Anaconda3\\lib\\site-packages\\gensim\\models\\ldamodel.py:1077: DeprecationWarning: Calling np.sum(generator) is deprecated, and in the future will give a different result. Use np.sum(np.from_iter(generator)) or the python sum builtin instead.\n",
      "  score += np.sum(cnt * logsumexp(Elogthetad + Elogbeta[:, int(id)]) for id, cnt in doc)\n",
      "C:\\Users\\Sravani\\Anaconda3\\lib\\site-packages\\gensim\\models\\ldamodel.py:1077: DeprecationWarning: Calling np.sum(generator) is deprecated, and in the future will give a different result. Use np.sum(np.from_iter(generator)) or the python sum builtin instead.\n",
      "  score += np.sum(cnt * logsumexp(Elogthetad + Elogbeta[:, int(id)]) for id, cnt in doc)\n",
      "C:\\Users\\Sravani\\Anaconda3\\lib\\site-packages\\gensim\\models\\ldamodel.py:1077: DeprecationWarning: Calling np.sum(generator) is deprecated, and in the future will give a different result. Use np.sum(np.from_iter(generator)) or the python sum builtin instead.\n",
      "  score += np.sum(cnt * logsumexp(Elogthetad + Elogbeta[:, int(id)]) for id, cnt in doc)\n",
      "C:\\Users\\Sravani\\Anaconda3\\lib\\site-packages\\gensim\\models\\ldamodel.py:1077: DeprecationWarning: Calling np.sum(generator) is deprecated, and in the future will give a different result. Use np.sum(np.from_iter(generator)) or the python sum builtin instead.\n",
      "  score += np.sum(cnt * logsumexp(Elogthetad + Elogbeta[:, int(id)]) for id, cnt in doc)\n",
      "C:\\Users\\Sravani\\Anaconda3\\lib\\site-packages\\gensim\\models\\ldamodel.py:1077: DeprecationWarning: Calling np.sum(generator) is deprecated, and in the future will give a different result. Use np.sum(np.from_iter(generator)) or the python sum builtin instead.\n",
      "  score += np.sum(cnt * logsumexp(Elogthetad + Elogbeta[:, int(id)]) for id, cnt in doc)\n",
      "C:\\Users\\Sravani\\Anaconda3\\lib\\site-packages\\gensim\\models\\ldamodel.py:1077: DeprecationWarning: Calling np.sum(generator) is deprecated, and in the future will give a different result. Use np.sum(np.from_iter(generator)) or the python sum builtin instead.\n",
      "  score += np.sum(cnt * logsumexp(Elogthetad + Elogbeta[:, int(id)]) for id, cnt in doc)\n",
      "C:\\Users\\Sravani\\Anaconda3\\lib\\site-packages\\gensim\\models\\ldamodel.py:1077: DeprecationWarning: Calling np.sum(generator) is deprecated, and in the future will give a different result. Use np.sum(np.from_iter(generator)) or the python sum builtin instead.\n",
      "  score += np.sum(cnt * logsumexp(Elogthetad + Elogbeta[:, int(id)]) for id, cnt in doc)\n",
      "C:\\Users\\Sravani\\Anaconda3\\lib\\site-packages\\gensim\\models\\ldamodel.py:1077: DeprecationWarning: Calling np.sum(generator) is deprecated, and in the future will give a different result. Use np.sum(np.from_iter(generator)) or the python sum builtin instead.\n",
      "  score += np.sum(cnt * logsumexp(Elogthetad + Elogbeta[:, int(id)]) for id, cnt in doc)\n",
      "C:\\Users\\Sravani\\Anaconda3\\lib\\site-packages\\gensim\\models\\ldamodel.py:1077: DeprecationWarning: Calling np.sum(generator) is deprecated, and in the future will give a different result. Use np.sum(np.from_iter(generator)) or the python sum builtin instead.\n",
      "  score += np.sum(cnt * logsumexp(Elogthetad + Elogbeta[:, int(id)]) for id, cnt in doc)\n",
      "C:\\Users\\Sravani\\Anaconda3\\lib\\site-packages\\gensim\\models\\ldamodel.py:1077: DeprecationWarning: Calling np.sum(generator) is deprecated, and in the future will give a different result. Use np.sum(np.from_iter(generator)) or the python sum builtin instead.\n",
      "  score += np.sum(cnt * logsumexp(Elogthetad + Elogbeta[:, int(id)]) for id, cnt in doc)\n",
      "C:\\Users\\Sravani\\Anaconda3\\lib\\site-packages\\gensim\\models\\ldamodel.py:1077: DeprecationWarning: Calling np.sum(generator) is deprecated, and in the future will give a different result. Use np.sum(np.from_iter(generator)) or the python sum builtin instead.\n",
      "  score += np.sum(cnt * logsumexp(Elogthetad + Elogbeta[:, int(id)]) for id, cnt in doc)\n"
     ]
    },
    {
     "name": "stderr",
     "output_type": "stream",
     "text": [
      "C:\\Users\\Sravani\\Anaconda3\\lib\\site-packages\\gensim\\models\\ldamodel.py:1077: DeprecationWarning: Calling np.sum(generator) is deprecated, and in the future will give a different result. Use np.sum(np.from_iter(generator)) or the python sum builtin instead.\n",
      "  score += np.sum(cnt * logsumexp(Elogthetad + Elogbeta[:, int(id)]) for id, cnt in doc)\n",
      "C:\\Users\\Sravani\\Anaconda3\\lib\\site-packages\\gensim\\models\\ldamodel.py:1077: DeprecationWarning: Calling np.sum(generator) is deprecated, and in the future will give a different result. Use np.sum(np.from_iter(generator)) or the python sum builtin instead.\n",
      "  score += np.sum(cnt * logsumexp(Elogthetad + Elogbeta[:, int(id)]) for id, cnt in doc)\n",
      "C:\\Users\\Sravani\\Anaconda3\\lib\\site-packages\\gensim\\models\\ldamodel.py:1077: DeprecationWarning: Calling np.sum(generator) is deprecated, and in the future will give a different result. Use np.sum(np.from_iter(generator)) or the python sum builtin instead.\n",
      "  score += np.sum(cnt * logsumexp(Elogthetad + Elogbeta[:, int(id)]) for id, cnt in doc)\n",
      "C:\\Users\\Sravani\\Anaconda3\\lib\\site-packages\\gensim\\models\\ldamodel.py:1077: DeprecationWarning: Calling np.sum(generator) is deprecated, and in the future will give a different result. Use np.sum(np.from_iter(generator)) or the python sum builtin instead.\n",
      "  score += np.sum(cnt * logsumexp(Elogthetad + Elogbeta[:, int(id)]) for id, cnt in doc)\n",
      "C:\\Users\\Sravani\\Anaconda3\\lib\\site-packages\\gensim\\models\\ldamodel.py:1077: DeprecationWarning: Calling np.sum(generator) is deprecated, and in the future will give a different result. Use np.sum(np.from_iter(generator)) or the python sum builtin instead.\n",
      "  score += np.sum(cnt * logsumexp(Elogthetad + Elogbeta[:, int(id)]) for id, cnt in doc)\n",
      "C:\\Users\\Sravani\\Anaconda3\\lib\\site-packages\\gensim\\models\\ldamodel.py:1077: DeprecationWarning: Calling np.sum(generator) is deprecated, and in the future will give a different result. Use np.sum(np.from_iter(generator)) or the python sum builtin instead.\n",
      "  score += np.sum(cnt * logsumexp(Elogthetad + Elogbeta[:, int(id)]) for id, cnt in doc)\n",
      "C:\\Users\\Sravani\\Anaconda3\\lib\\site-packages\\gensim\\models\\ldamodel.py:1077: DeprecationWarning: Calling np.sum(generator) is deprecated, and in the future will give a different result. Use np.sum(np.from_iter(generator)) or the python sum builtin instead.\n",
      "  score += np.sum(cnt * logsumexp(Elogthetad + Elogbeta[:, int(id)]) for id, cnt in doc)\n",
      "C:\\Users\\Sravani\\Anaconda3\\lib\\site-packages\\gensim\\models\\ldamodel.py:1077: DeprecationWarning: Calling np.sum(generator) is deprecated, and in the future will give a different result. Use np.sum(np.from_iter(generator)) or the python sum builtin instead.\n",
      "  score += np.sum(cnt * logsumexp(Elogthetad + Elogbeta[:, int(id)]) for id, cnt in doc)\n",
      "C:\\Users\\Sravani\\Anaconda3\\lib\\site-packages\\gensim\\models\\ldamodel.py:1077: DeprecationWarning: Calling np.sum(generator) is deprecated, and in the future will give a different result. Use np.sum(np.from_iter(generator)) or the python sum builtin instead.\n",
      "  score += np.sum(cnt * logsumexp(Elogthetad + Elogbeta[:, int(id)]) for id, cnt in doc)\n",
      "C:\\Users\\Sravani\\Anaconda3\\lib\\site-packages\\gensim\\models\\ldamodel.py:1077: DeprecationWarning: Calling np.sum(generator) is deprecated, and in the future will give a different result. Use np.sum(np.from_iter(generator)) or the python sum builtin instead.\n",
      "  score += np.sum(cnt * logsumexp(Elogthetad + Elogbeta[:, int(id)]) for id, cnt in doc)\n",
      "C:\\Users\\Sravani\\Anaconda3\\lib\\site-packages\\gensim\\models\\ldamodel.py:1077: DeprecationWarning: Calling np.sum(generator) is deprecated, and in the future will give a different result. Use np.sum(np.from_iter(generator)) or the python sum builtin instead.\n",
      "  score += np.sum(cnt * logsumexp(Elogthetad + Elogbeta[:, int(id)]) for id, cnt in doc)\n",
      "C:\\Users\\Sravani\\Anaconda3\\lib\\site-packages\\gensim\\models\\ldamodel.py:1077: DeprecationWarning: Calling np.sum(generator) is deprecated, and in the future will give a different result. Use np.sum(np.from_iter(generator)) or the python sum builtin instead.\n",
      "  score += np.sum(cnt * logsumexp(Elogthetad + Elogbeta[:, int(id)]) for id, cnt in doc)\n"
     ]
    }
   ],
   "source": [
    "#Perform Latent Dirichlet allocation on multicore to train faster\n",
    "#parameter passed - Bag of words, tokenized dictionary, number of topics, number of workers\n",
    "lda = LdaMulticore(dtm_train, num_topics=5,chunksize=30, id2word=common_dictionary, workers=8,passes = 20,random_state=45)\n",
    "\n",
    "#%time lda = gensim.models.ldamodel.LdaModel(dtm_train, num_topics = 5,  alpha='auto',chunksize=30,id2word = common_dictionary, passes = 20,random_state=22)"
   ]
  },
  {
   "cell_type": "code",
   "execution_count": 293,
   "metadata": {
    "collapsed": true
   },
   "outputs": [],
   "source": [
    "#preparing LDA visualization\n",
    "LDAvis_prepared = pyLDAvis.gensim.prepare(lda, dtm_train, common_dictionary)"
   ]
  },
  {
   "cell_type": "code",
   "execution_count": 294,
   "metadata": {},
   "outputs": [
    {
     "data": {
      "text/html": [
       "\n",
       "<link rel=\"stylesheet\" type=\"text/css\" href=\"https://cdn.rawgit.com/bmabey/pyLDAvis/files/ldavis.v1.0.0.css\">\n",
       "\n",
       "\n",
       "<div id=\"ldavis_el1459621938638384804834573835\"></div>\n",
       "<script type=\"text/javascript\">\n",
       "\n",
       "var ldavis_el1459621938638384804834573835_data = {\"mdsDat\": {\"Freq\": [36.85659839129183, 17.706743118861944, 17.68049620976114, 15.571876514727357, 12.184285765357728], \"cluster\": [1, 1, 1, 1, 1], \"topics\": [1, 2, 3, 4, 5], \"x\": [-0.026313109509707795, -0.14088079163422074, -0.24078907655494722, 0.08522019235425271, 0.3227627853446228], \"y\": [0.1757419181005227, 0.16886101399081313, -0.11787424471283386, -0.308198798639771, 0.0814701112612693]}, \"tinfo\": {\"Category\": [\"Default\", \"Default\", \"Default\", \"Default\", \"Default\", \"Default\", \"Default\", \"Default\", \"Default\", \"Default\", \"Default\", \"Default\", \"Default\", \"Default\", \"Default\", \"Default\", \"Default\", \"Default\", \"Default\", \"Default\", \"Default\", \"Default\", \"Default\", \"Default\", \"Default\", \"Default\", \"Default\", \"Default\", \"Default\", \"Default\", \"Topic1\", \"Topic1\", \"Topic1\", \"Topic1\", \"Topic1\", \"Topic1\", \"Topic1\", \"Topic1\", \"Topic1\", \"Topic1\", \"Topic1\", \"Topic1\", \"Topic1\", \"Topic1\", \"Topic1\", \"Topic1\", \"Topic1\", \"Topic1\", \"Topic1\", \"Topic1\", \"Topic1\", \"Topic1\", \"Topic1\", \"Topic1\", \"Topic1\", \"Topic1\", \"Topic1\", \"Topic1\", \"Topic1\", \"Topic1\", \"Topic1\", \"Topic1\", \"Topic1\", \"Topic1\", \"Topic1\", \"Topic1\", \"Topic1\", \"Topic1\", \"Topic1\", \"Topic1\", \"Topic1\", \"Topic1\", \"Topic1\", \"Topic1\", \"Topic1\", \"Topic1\", \"Topic1\", \"Topic1\", \"Topic1\", \"Topic1\", \"Topic1\", \"Topic1\", \"Topic1\", \"Topic1\", \"Topic1\", \"Topic2\", \"Topic2\", \"Topic2\", \"Topic2\", \"Topic2\", \"Topic2\", \"Topic2\", \"Topic2\", \"Topic2\", \"Topic2\", \"Topic2\", \"Topic2\", \"Topic2\", \"Topic2\", \"Topic2\", \"Topic2\", \"Topic2\", \"Topic2\", \"Topic2\", \"Topic2\", \"Topic2\", \"Topic2\", \"Topic2\", \"Topic2\", \"Topic2\", \"Topic2\", \"Topic2\", \"Topic2\", \"Topic2\", \"Topic2\", \"Topic2\", \"Topic2\", \"Topic2\", \"Topic2\", \"Topic2\", \"Topic2\", \"Topic2\", \"Topic2\", \"Topic2\", \"Topic2\", \"Topic2\", \"Topic2\", \"Topic2\", \"Topic2\", \"Topic2\", \"Topic2\", \"Topic2\", \"Topic2\", \"Topic2\", \"Topic2\", \"Topic3\", \"Topic3\", \"Topic3\", \"Topic3\", \"Topic3\", \"Topic3\", \"Topic3\", \"Topic3\", \"Topic3\", \"Topic3\", \"Topic3\", \"Topic3\", \"Topic3\", \"Topic3\", \"Topic3\", \"Topic3\", \"Topic3\", \"Topic3\", \"Topic3\", \"Topic3\", \"Topic3\", \"Topic3\", \"Topic3\", \"Topic3\", \"Topic3\", \"Topic3\", \"Topic3\", \"Topic3\", \"Topic3\", \"Topic3\", \"Topic3\", \"Topic3\", \"Topic3\", \"Topic3\", \"Topic3\", \"Topic3\", \"Topic3\", \"Topic3\", \"Topic3\", \"Topic3\", \"Topic3\", \"Topic3\", \"Topic3\", \"Topic3\", \"Topic3\", \"Topic3\", \"Topic3\", \"Topic3\", \"Topic4\", \"Topic4\", \"Topic4\", \"Topic4\", \"Topic4\", \"Topic4\", \"Topic4\", \"Topic4\", \"Topic4\", \"Topic4\", \"Topic4\", \"Topic4\", \"Topic4\", \"Topic4\", \"Topic4\", \"Topic4\", \"Topic4\", \"Topic4\", \"Topic4\", \"Topic4\", \"Topic4\", \"Topic4\", \"Topic4\", \"Topic4\", \"Topic4\", \"Topic4\", \"Topic4\", \"Topic4\", \"Topic4\", \"Topic4\", \"Topic4\", \"Topic4\", \"Topic4\", \"Topic4\", \"Topic4\", \"Topic4\", \"Topic4\", \"Topic4\", \"Topic4\", \"Topic4\", \"Topic4\", \"Topic4\", \"Topic4\", \"Topic4\", \"Topic4\", \"Topic4\", \"Topic5\", \"Topic5\", \"Topic5\", \"Topic5\", \"Topic5\", \"Topic5\", \"Topic5\", \"Topic5\", \"Topic5\", \"Topic5\", \"Topic5\", \"Topic5\", \"Topic5\", \"Topic5\", \"Topic5\", \"Topic5\", \"Topic5\", \"Topic5\", \"Topic5\", \"Topic5\", \"Topic5\", \"Topic5\", \"Topic5\", \"Topic5\", \"Topic5\", \"Topic5\", \"Topic5\", \"Topic5\", \"Topic5\", \"Topic5\", \"Topic5\", \"Topic5\", \"Topic5\", \"Topic5\", \"Topic5\", \"Topic5\", \"Topic5\", \"Topic5\", \"Topic5\", \"Topic5\", \"Topic5\", \"Topic5\", \"Topic5\", \"Topic5\", \"Topic5\", \"Topic5\"], \"Freq\": [565.0, 382.0, 1016.0, 985.0, 368.0, 1482.0, 357.0, 310.0, 273.0, 760.0, 367.0, 375.0, 178.0, 202.0, 353.0, 190.0, 247.0, 128.0, 247.0, 173.0, 109.0, 145.0, 93.0, 172.0, 197.0, 105.0, 185.0, 147.0, 215.0, 187.0, 352.8556044312624, 196.61689201232744, 184.6175224437766, 139.75219735315517, 101.340564929643, 90.40630737356602, 92.6369803270821, 69.5866555801998, 68.73591815000043, 62.04618898054581, 58.472860100239494, 58.00321651188632, 55.34403778618164, 55.66443227771687, 50.13131712642876, 45.14039000867502, 44.11779503574103, 42.933691202653115, 42.70608328760125, 41.45153088799069, 40.930959701867884, 38.7666607464716, 35.15480150334258, 34.427360332722664, 34.27503728053887, 28.34214567011496, 28.23511838691832, 27.033704399017207, 25.134993835051738, 24.491613174070164, 166.50548896309007, 137.83308464994693, 869.7213131438917, 53.63251623001967, 281.74401908996805, 1059.8768050643657, 611.9606543996641, 56.56146834357336, 257.36519123132314, 201.6671572860806, 384.69013524643753, 97.14311042841811, 52.37686405752161, 60.20096839503252, 58.22144931379889, 138.45362699444928, 82.21500058781241, 82.36546213916615, 93.85666451744, 64.31968096041923, 74.27214782204778, 86.55676872965931, 68.46506301832765, 64.40191152008904, 62.5454407988086, 356.9307154997594, 272.605240342254, 70.796497207031, 60.783514622570756, 33.76661456254755, 34.09760995687173, 31.839950130522084, 27.95443487303653, 26.892543736788788, 26.508476738812238, 23.214412445397134, 24.16955406445303, 23.000192335326307, 21.46811870860329, 21.03104723414043, 60.806389828453646, 18.854754194638137, 17.077001636274186, 16.099737285213127, 14.687443424773228, 14.241242655724774, 531.3945839031081, 13.869218487880529, 13.495613583544946, 13.182151371919915, 13.148431880627948, 12.331832070771894, 11.551792747107308, 11.481246426352046, 10.569458129615468, 151.37865409871293, 112.15878014206389, 124.3334566901023, 35.875875713247254, 78.33650200109665, 43.22146291123289, 372.9978582150604, 98.47354314133185, 89.87900521457676, 152.43108680072208, 135.13613191778657, 340.27808531120604, 198.3110583277988, 49.15437405701052, 60.812708443634094, 29.685113964845378, 26.46676694936542, 32.83893661598434, 35.233195894502686, 28.0669638226878, 367.28509188402654, 309.47777176268835, 201.64648749747872, 190.07759940280314, 104.66960238875697, 94.002655820831, 63.479049586206926, 60.98882488848864, 56.921923616362065, 55.51116861551042, 55.51135888758518, 49.56128732353357, 41.368682059448716, 32.76037771784781, 27.501235949636218, 26.93298623618081, 27.65628174437415, 24.373052769254752, 24.297036913205197, 22.16916376004193, 22.154463080084, 18.58762276662048, 17.809165654207888, 17.620069806818464, 16.00006849720544, 13.94622955967675, 14.019042142104057, 13.560460495738829, 12.483769203600227, 12.24126960650042, 55.06674061688819, 187.14573159773866, 79.91370058325707, 36.95798077005629, 236.8498656813988, 231.6431222479571, 152.58858656955115, 102.17702956066152, 102.06793447197829, 87.37383619808939, 32.06866521188207, 55.43914631084817, 72.56254762360926, 75.52741898491405, 53.13113739527058, 46.92626125255708, 81.68740821544536, 41.12282891703125, 108.75647415142433, 79.91454313409432, 79.21993266002036, 71.81559630923077, 70.3740828597448, 66.36217778185045, 60.77858025259575, 57.83351837461476, 57.83522844985882, 50.3694512664701, 44.369513257698166, 38.1416286935669, 38.19669387815145, 37.41707095525252, 35.24537822834256, 32.17994838151318, 32.45851925790571, 33.45419819070313, 33.30897890566894, 31.17239985072449, 30.530879786148148, 29.427631788416864, 29.07911350245956, 28.49433632434974, 29.190258871745673, 28.315359239926618, 28.393858930027058, 28.03806044623234, 26.02785366664462, 25.536216555557566, 30.505588573101136, 116.3147553604867, 75.44801702817952, 89.22791760365276, 40.9312565386194, 122.70288044965778, 57.29034667972542, 68.46384883089439, 69.46222808295246, 74.2859961437477, 56.23680321868114, 54.68769213953007, 42.79175746605157, 59.89191956876417, 46.851159979065166, 36.3610709273209, 381.38119732815716, 178.06050468765534, 127.89953841751587, 92.34882833150095, 70.34591014909948, 65.30006754999306, 50.99616364717665, 40.89521337851064, 40.807497687382, 35.84768703388926, 28.809767865012724, 28.296043698032317, 27.097380795803048, 27.01074687391677, 26.22922670788079, 25.996264870461516, 25.16045359682951, 24.729039254846484, 23.615670728292905, 23.00994849442277, 23.096738870538314, 21.913010642022815, 20.41022306870211, 18.93872932131542, 18.27560328570698, 18.431985993040893, 17.64124992788093, 16.538713994153763, 16.93841282880389, 16.128084224018828, 16.713619392192644, 62.04885926340201, 37.33389790910902, 37.49122828206021, 47.15096570387023, 48.71788312074745, 66.23432876492173, 176.74384549575296, 29.788029969372463, 49.44409001155619, 145.68290689714237, 84.36025154446854, 30.365810967935737, 30.32663184884665, 27.801070197919522, 28.507838023251868], \"Term\": [\"combin\", \"work\", \"glo\", \"cigarett\", \"campaign\", \"use\", \"plume\", \"busi\", \"tech\", \"ico\", \"glow\", \"point\", \"absent\", \"recycl\", \"like\", \"end\", \"call\", \"comparison\", \"program\", \"reason\", \"exchang\", \"bodi\", \"charg\", \"type\", \"conjunct\", \"show\", \"smoke\", \"particular\", \"neostick\", \"menthol\", \"like\", \"conjunct\", \"smoke\", \"break\", \"origin\", \"mood\", \"unsatisfactori\", \"compar\", \"think\", \"fresh\", \"second\", \"thin\", \"accord\", \"properli\", \"start\", \"place\", \"outsid\", \"dark\", \"announc\", \"3\", \"half\", \"30\", \"anoth\", \"distinguish\", \"inquiri\", \"iqo\", \"want\", \"icoco\", \"cigar\", \"plu\", \"suck\", \"togeth\", \"glo\", \"insid\", \"feel\", \"use\", \"cigarett\", \"car\", \"tast\", \"neo\", \"ico\", \"paper\", \"bought\", \"chang\", \"compani\", \"point\", \"appli\", \"smell\", \"program\", \"product\", \"heat\", \"time\", \"tri\", \"purchas\", \"current\", \"plume\", \"tech\", \"power\", \"drive\", \"voic\", \"base\", \"middl\", \"transmiss\", \"deal\", \"flap\", \"center\", \"smaller\", \"everi\", \"color\", \"may\", \"long\", \"recommend\", \"date\", \"stay\", \"suit\", \"20\", \"combin\", \"felt\", \"liquid\", \"enjoy\", \"cool\", \"transfer\", \"nicotin\", \"design\", \"self\", \"reason\", \"particular\", \"type\", \"seem\", \"regular\", \"tobacco\", \"cigarett\", \"heat\", \"menthol\", \"time\", \"glow\", \"use\", \"ico\", \"problem\", \"tast\", \"differ\", \"troubl\", \"difficult\", \"feel\", \"clean\", \"campaign\", \"busi\", \"recycl\", \"end\", \"show\", \"without\", \"inform\", \"respond\", \"alreadi\", \"cp\", \"variou\", \"told\", \"return\", \"finish\", \"back\", \"answer\", \"other\", \"registr\", \"item\", \"love\", \"kind\", \"questionnair\", \"occupi\", \"absenc\", \"machin\", \"sound\", \"possess\", \"somewhat\", \"talk\", \"arriv\", \"right\", \"call\", \"thing\", \"roll\", \"point\", \"glow\", \"program\", \"tri\", \"problem\", \"menthol\", \"seri\", \"appli\", \"neo\", \"time\", \"neostick\", \"type\", \"use\", \"paper\", \"exchang\", \"request\", \"correspond\", \"insert\", \"replac\", \"custom\", \"improv\", \"noth\", \"room\", \"opinion\", \"care\", \"contact\", \"enter\", \"way\", \"demand\", \"special\", \"devic\", \"defect\", \"electr\", \"regist\", \"code\", \"box\", \"earthquak\", \"recept\", \"kent\", \"consult\", \"telephon\", \"method\", \"hand\", \"warranti\", \"occasion\", \"bodi\", \"stop\", \"clean\", \"hard\", \"neostick\", \"concern\", \"difficult\", \"main\", \"smell\", \"littl\", \"stick\", \"guid\", \"call\", \"neo\", \"time\", \"work\", \"absent\", \"comparison\", \"charg\", \"person\", \"famili\", \"phone\", \"connect\", \"pt\", \"declar\", \"inconveni\", \"hot\", \"heavi\", \"whether\", \"come\", \"limit\", \"carri\", \"clock\", \"close\", \"gradual\", \"lot\", \"free\", \"burn\", \"see\", \"dialogu\", \"left\", \"consider\", \"send\", \"us\", \"thinner\", \"previous\", \"price\", \"day\", \"mani\", \"home\", \"continu\", \"good\", \"ico\", \"hope\", \"current\", \"glo\", \"time\", \"increas\", \"one\", \"even\", \"bodi\"], \"Total\": [565.0, 382.0, 1016.0, 985.0, 368.0, 1482.0, 357.0, 310.0, 273.0, 760.0, 367.0, 375.0, 178.0, 202.0, 353.0, 190.0, 247.0, 128.0, 247.0, 173.0, 109.0, 145.0, 93.0, 172.0, 197.0, 105.0, 185.0, 147.0, 215.0, 187.0, 353.7952653178068, 197.51517536581406, 185.52355765820988, 140.6592868680421, 102.2371620087155, 91.30750326517064, 93.80084802788181, 70.4925022700274, 69.74102829267319, 62.9538802249638, 59.380813205986954, 58.910624848000296, 56.240519875534524, 56.58381358659981, 51.029950446800605, 46.043766646888265, 45.017776205921216, 43.83005128531831, 43.61999300739342, 42.35324446253848, 41.83557376570797, 39.67711409905103, 36.05608081359895, 35.32963091031081, 35.23145518176128, 29.24608186182247, 29.16197589603495, 27.928897825393726, 26.034849228472783, 25.385797555443407, 177.0282826427412, 150.27273145119347, 1016.113831845601, 56.98608167978915, 332.07770021894896, 1482.300370386078, 985.9044904828964, 62.747733760654135, 388.28941880240336, 323.34065763487786, 760.2392411673102, 142.30588132227885, 58.70913971149102, 72.46030689912351, 70.64967237280963, 375.97570532736086, 138.32502740673164, 157.32510384698745, 247.11558239576024, 98.30746761871603, 180.78067807579413, 435.2365969870849, 171.31267385641863, 115.10528771374393, 112.66877269522013, 357.82331507168726, 273.497307837482, 71.68882693082946, 61.671836137118575, 34.65826717527993, 35.003900439767, 32.7300576817364, 28.843717123569636, 27.784465399366308, 27.4218052992743, 24.119801475586048, 25.136211859680415, 23.95423844838472, 22.375470675565133, 21.927421500298557, 63.54509531908457, 19.76097268262657, 17.972347743754312, 16.98604102102507, 15.59073453395135, 15.147231683914187, 565.681091290985, 14.77270875715289, 14.393688734558031, 14.079873062784943, 14.044289311490033, 13.242933324026202, 12.44563329874825, 12.380816675825066, 11.45919532698447, 173.65858512090193, 147.69934255999004, 172.5186448855788, 43.52760323420244, 106.07678662143752, 61.42073646777293, 985.9044904828964, 180.78067807579413, 187.8218172848614, 435.2365969870849, 367.4459979835032, 1482.300370386078, 760.2392411673102, 176.2022395105961, 388.28941880240336, 56.406818945336134, 40.46292043775408, 125.93241243481584, 332.07770021894896, 131.11249809002382, 368.1656182992599, 310.35601010037686, 202.52844041220962, 190.96112005865223, 105.54742360459517, 94.88595625733646, 64.36870696738076, 61.868269928526175, 57.80336556260563, 56.39217087993006, 56.398319092040246, 50.45008476666089, 42.26274514359325, 33.64146267732719, 28.381675402689282, 27.81204164154538, 28.560636918777348, 25.25893276955444, 25.18387663383245, 23.049594627334013, 23.043496568649818, 19.47211838318769, 18.68553812253096, 18.507273056810718, 16.877145232291866, 14.829821601891444, 14.921970104371603, 14.45172937409033, 13.361200262935562, 13.124832367949978, 63.90398304762347, 247.68987974965313, 102.2274744073791, 44.66829235419261, 375.97570532736086, 367.4459979835032, 247.11558239576024, 171.31267385641863, 176.2022395105961, 187.8218172848614, 46.17746940052522, 138.32502740673164, 323.34065763487786, 435.2365969870849, 215.97005252291936, 172.5186448855788, 1482.300370386078, 142.30588132227885, 109.65205523959985, 80.79443252237733, 80.096342706094, 72.69325185402495, 71.3006647244561, 67.23894767384058, 61.66167947619373, 58.71306448513242, 58.71614361190846, 51.251103748270225, 45.24643728733864, 39.017403698068186, 39.074955228360295, 38.31229082413873, 36.133133843430386, 33.05626486655325, 33.34440643193513, 34.373553515787904, 34.24348662479807, 32.05226152087701, 31.409718136939667, 30.304354463140363, 29.951682570230535, 29.368543155992228, 30.08758522336036, 29.191284974928045, 29.274896639933804, 28.915830964779726, 26.906681458236374, 26.412589919880098, 31.725487541214505, 145.47731620017322, 89.41747206996823, 131.11249809002382, 47.67825269554818, 215.97005252291936, 77.62398025693737, 125.93241243481584, 130.24398388022027, 157.32510384698745, 116.6691063598341, 127.02034003917127, 80.37834340446666, 247.68987974965313, 323.34065763487786, 435.2365969870849, 382.26079305393273, 178.93605242646458, 128.7784731675833, 93.30738446329424, 71.22458476223792, 66.17817631332238, 51.882013278471575, 41.77147574215904, 41.68674998742095, 36.76239677372107, 29.69181168402862, 29.186148403300678, 27.980338903451273, 27.907323070031723, 27.112561284870317, 26.88166870238446, 26.04207622977684, 25.60764610052431, 24.50243290126394, 23.89401476502823, 23.985798850792605, 22.79719723866401, 21.299942210884556, 19.82798432650962, 19.15343041939347, 19.319749597653523, 18.527830571990652, 17.414937631767472, 17.839739207003312, 17.007918250487624, 17.634570357546938, 75.60231570251611, 43.26381079428726, 50.363599271279625, 74.52663991977666, 84.92988210366994, 148.90732160522765, 760.2392411673102, 41.435892628346004, 112.66877269522013, 1016.113831845601, 435.2365969870849, 80.59604096929854, 95.0856528540219, 79.97247098886123, 145.47731620017322], \"loglift\": [30.0, 29.0, 28.0, 27.0, 26.0, 25.0, 24.0, 23.0, 22.0, 21.0, 20.0, 19.0, 18.0, 17.0, 16.0, 15.0, 14.0, 13.0, 12.0, 11.0, 10.0, 9.0, 8.0, 7.0, 6.0, 5.0, 4.0, 3.0, 2.0, 1.0, 0.9955, 0.9936, 0.9932, 0.9917, 0.9893, 0.9882, 0.9857, 0.9852, 0.9836, 0.9836, 0.9827, 0.9826, 0.9821, 0.9818, 0.9804, 0.9783, 0.9779, 0.9775, 0.977, 0.9766, 0.9763, 0.9749, 0.9728, 0.9723, 0.9706, 0.9667, 0.9658, 0.9656, 0.963, 0.9623, 0.9369, 0.9117, 0.8426, 0.9375, 0.8338, 0.6627, 0.5212, 0.8943, 0.5869, 0.526, 0.3169, 0.6163, 0.884, 0.8128, 0.8047, -0.0009, 0.4779, 0.351, 0.03, 0.5739, 0.1086, -0.617, 0.081, 0.4174, 0.4096, 1.7287, 1.728, 1.7187, 1.7167, 1.7052, 1.705, 1.7037, 1.6999, 1.6986, 1.6974, 1.693, 1.692, 1.6906, 1.6898, 1.6895, 1.6872, 1.6843, 1.6801, 1.6776, 1.6715, 1.6695, 1.6687, 1.6681, 1.6668, 1.6653, 1.6653, 1.6599, 1.6567, 1.6558, 1.6504, 1.5939, 1.456, 1.4037, 1.5379, 1.4281, 1.3798, 0.7592, 1.1237, 0.9942, 0.682, 0.7309, 0.2596, 0.3874, 0.4546, -0.1227, 1.0893, 1.3067, 0.3871, -0.5122, 0.1898, 1.7303, 1.7299, 1.7283, 1.7281, 1.7244, 1.7234, 1.7188, 1.7184, 1.7173, 1.717, 1.7169, 1.7149, 1.7113, 1.7062, 1.7012, 1.7006, 1.7005, 1.697, 1.6969, 1.6938, 1.6934, 1.6862, 1.6847, 1.6836, 1.6793, 1.6713, 1.6703, 1.6691, 1.6648, 1.663, 1.5839, 1.4524, 1.4865, 1.5432, 1.2706, 1.2713, 1.2506, 1.2159, 1.1867, 0.9674, 1.3681, 0.8184, 0.2385, -0.0187, 0.3303, 0.4308, -1.1657, 0.4913, 1.8515, 1.8488, 1.8487, 1.8476, 1.8466, 1.8466, 1.8453, 1.8446, 1.8446, 1.8424, 1.8401, 1.837, 1.837, 1.8361, 1.8348, 1.8328, 1.8328, 1.8326, 1.832, 1.8319, 1.8313, 1.8303, 1.8301, 1.8295, 1.8294, 1.8292, 1.8291, 1.8289, 1.8265, 1.826, 1.8205, 1.636, 1.6898, 1.4748, 1.7071, 1.2943, 1.556, 1.2503, 1.2311, 1.1093, 1.1299, 1.017, 1.2293, 0.4401, -0.072, -0.6227, 2.1027, 2.1001, 2.0982, 2.0947, 2.0926, 2.0917, 2.0878, 2.0838, 2.0837, 2.0798, 2.0749, 2.0741, 2.073, 2.0724, 2.0719, 2.0715, 2.0706, 2.0701, 2.0682, 2.0673, 2.0673, 2.0655, 2.0624, 2.0591, 2.0581, 2.058, 2.056, 2.0534, 2.0532, 2.0519, 2.0514, 1.9075, 1.9576, 1.8099, 1.6472, 1.5492, 1.2949, 0.6461, 1.775, 1.2814, 0.1627, 0.4642, 1.1289, 0.9623, 1.0484, 0.4752], \"logprob\": [30.0, 29.0, 28.0, 27.0, 26.0, 25.0, 24.0, 23.0, 22.0, 21.0, 20.0, 19.0, 18.0, 17.0, 16.0, 15.0, 14.0, 13.0, 12.0, 11.0, 10.0, 9.0, 8.0, 7.0, 6.0, 5.0, 4.0, 3.0, 2.0, 1.0, -3.3117001056671143, -3.8965001106262207, -3.9595000743865967, -4.2378997802734375, -4.559299945831299, -4.673399925231934, -4.649099826812744, -4.935200214385986, -4.947500228881836, -5.049900054931641, -5.1092000007629395, -5.117199897766113, -5.1641998291015625, -5.158400058746338, -5.2631001472473145, -5.368000030517578, -5.390900135040283, -5.418099880218506, -5.423399925231934, -5.453199863433838, -5.46589994430542, -5.520199775695801, -5.618000030517578, -5.638899803161621, -5.6433000564575195, -5.833399772644043, -5.837200164794922, -5.88070011138916, -5.953499794006348, -5.979400157928467, -4.062699794769287, -4.251699924468994, -2.409600019454956, -5.1956000328063965, -3.5367000102996826, -2.2118000984191895, -2.7611000537872314, -5.142399787902832, -3.62719988822937, -3.8710999488830566, -3.2253000736236572, -4.601600170135498, -5.219299793243408, -5.080100059509277, -5.113500118255615, -4.247200012207031, -4.768400192260742, -4.766600131988525, -4.636000156402588, -5.013899803161621, -4.869999885559082, -4.716899871826172, -4.951399803161621, -5.012599945068359, -5.041800022125244, -2.5671000480651855, -2.8366000652313232, -4.184800148010254, -4.337299823760986, -4.92519998550415, -4.91540002822876, -4.98390007019043, -5.114099979400635, -5.1528000831604, -5.167200088500977, -5.299900054931641, -5.2596001625061035, -5.309199810028076, -5.3780999183654785, -5.39870023727417, -4.336999893188477, -5.507900238037109, -5.606900215148926, -5.665900230407715, -5.757699966430664, -5.78849983215332, -2.169100046157837, -5.815000057220459, -5.842299938201904, -5.865799903869629, -5.8684000968933105, -5.932499885559082, -5.997799873352051, -6.003900051116943, -6.086699962615967, -3.4249000549316406, -3.7246999740600586, -3.6217000484466553, -4.86460018157959, -4.083600044250488, -4.678299903869629, -2.523099899291992, -3.8548998832702637, -3.946199893951416, -3.4179000854492188, -3.5383999347686768, -2.6149001121520996, -3.1547999382019043, -4.549699783325195, -4.336900234222412, -5.053999900817871, -5.168799877166748, -4.953000068664551, -4.882699966430664, -5.110099792480469, -2.5369999408721924, -2.7083001136779785, -3.136699914932251, -3.19569993019104, -3.7923998832702637, -3.8998000621795654, -4.292500019073486, -4.332499980926514, -4.401500225067139, -4.426599979400635, -4.426599979400635, -4.539999961853027, -4.720600128173828, -4.953999996185303, -5.128900051116943, -5.149799823760986, -5.123300075531006, -5.24970006942749, -5.252799987792969, -5.3445000648498535, -5.345099925994873, -5.520699977874756, -5.563499927520752, -5.574100017547607, -5.670599937438965, -5.808000087738037, -5.802800178527832, -5.835999965667725, -5.918700218200684, -5.938399791717529, -4.434599876403809, -3.2112998962402344, -4.06220006942749, -4.833399772644043, -2.9756999015808105, -2.997999906539917, -3.4154000282287598, -3.816499948501587, -3.817500114440918, -3.9730000495910645, -4.975299835205078, -4.4278998374938965, -4.158699989318848, -4.11870002746582, -4.470399856567383, -4.594600200653076, -4.040299892425537, -4.726600170135498, -3.6270999908447266, -3.9351999759674072, -3.9439001083374023, -4.042099952697754, -4.062300205230713, -4.120999813079834, -4.208899974822998, -4.258600234985352, -4.258600234985352, -4.3968000411987305, -4.523600101470947, -4.674900054931641, -4.673399925231934, -4.693999767303467, -4.753799915313721, -4.844799995422363, -4.83620023727417, -4.806000232696533, -4.810299873352051, -4.8765997886657715, -4.89739990234375, -4.934199810028076, -4.946199893951416, -4.9664998054504395, -4.942299842834473, -4.972799777984619, -4.96999979019165, -4.982600212097168, -5.057000160217285, -5.076099872589111, -4.8983001708984375, -3.5599000453948975, -3.9927000999450684, -3.825000047683716, -4.604300022125244, -3.5064001083374023, -4.26800012588501, -4.089900016784668, -4.075399875640869, -4.008299827575684, -4.286600112915039, -4.314499855041504, -4.559800148010254, -4.223599910736084, -4.469200134277344, -4.722700119018555, -2.1270999908447266, -2.888700008392334, -3.219599962234497, -3.545300006866455, -3.8173999786376953, -3.891900062561035, -4.139100074768066, -4.359799861907959, -4.361999988555908, -4.491600036621094, -4.710100173950195, -4.728099822998047, -4.771399974822998, -4.774600028991699, -4.803999900817871, -4.812900066375732, -4.845600128173828, -4.8628997802734375, -4.908899784088135, -4.934899806976318, -4.93120002746582, -4.983799934387207, -5.054800033569336, -5.1296000480651855, -5.165299892425537, -5.156799793243408, -5.2006001472473145, -5.265200138092041, -5.241300106048584, -5.290299892425537, -5.2546000480651855, -3.9428999423980713, -4.451000213623047, -4.446700096130371, -4.21750020980835, -4.184800148010254, -3.877700090408325, -2.896199941635132, -4.676700115203857, -4.170000076293945, -3.089400053024292, -3.6357998847961426, -4.65749979019165, -4.65880012512207, -4.745800018310547, -4.720699787139893]}, \"token.table\": {\"Topic\": [2, 1, 1, 3, 5, 1, 3, 1, 1, 3, 1, 3, 3, 3, 2, 4, 5, 1, 3, 4, 1, 5, 3, 3, 4, 3, 1, 2, 4, 5, 2, 1, 5, 5, 1, 1, 2, 2, 4, 5, 5, 5, 4, 2, 1, 2, 5, 1, 2, 1, 5, 4, 5, 1, 5, 5, 4, 4, 1, 5, 2, 4, 3, 1, 5, 4, 1, 2, 4, 5, 2, 5, 4, 4, 2, 4, 5, 1, 2, 3, 2, 3, 4, 1, 2, 4, 4, 3, 2, 4, 1, 3, 4, 5, 2, 4, 5, 1, 2, 4, 2, 3, 2, 5, 1, 1, 5, 2, 3, 1, 4, 5, 5, 3, 4, 1, 4, 1, 4, 1, 2, 3, 5, 1, 5, 1, 3, 5, 5, 1, 2, 5, 1, 4, 5, 1, 5, 3, 1, 4, 1, 4, 1, 3, 4, 3, 5, 1, 5, 2, 1, 2, 4, 2, 3, 4, 5, 3, 3, 1, 4, 2, 5, 2, 1, 2, 3, 4, 2, 1, 1, 2, 3, 4, 1, 2, 3, 4, 2, 4, 4, 5, 3, 1, 2, 5, 4, 1, 3, 1, 1, 2, 3, 2, 4, 5, 5, 1, 1, 2, 1, 3, 3, 2, 5, 1, 5, 2, 3, 4, 1, 3, 1, 3, 1, 5, 1, 3, 4, 3, 2, 4, 4, 2, 3, 4, 3, 2, 3, 4, 4, 3, 3, 3, 5, 1, 3, 4, 1, 5, 2, 5, 2, 5, 1, 3, 3, 2, 1, 4, 1, 3, 3, 4, 1, 2, 1, 2, 3, 4, 5, 3, 4, 1, 4, 2, 3, 1, 2, 3, 4, 5, 2, 4, 1, 3, 5, 1, 5, 1, 2, 3, 4, 5, 2, 4, 1, 5, 3, 2, 2, 1, 3, 2, 3, 1, 2, 3, 1, 5, 1, 2, 3, 3, 2, 1, 4, 4, 5, 3, 5], \"Freq\": [0.9242612968591148, 0.9680486234357931, 0.9829343914136329, 0.972590610445225, 0.99476878799006, 0.9779425958671807, 0.9861017510868719, 0.9857864945716903, 0.9707100497400527, 0.9708025159745065, 0.5928066781355971, 0.3976142353348517, 0.9142973916606548, 0.9865520482045568, 0.9713203263877845, 0.7973751718129501, 0.19934379295323754, 0.8857223978334355, 0.10219873821155026, 0.9569581835268305, 0.9953128806300532, 0.9389696836726502, 0.9956307915547107, 0.7549763445684821, 0.24223839932678567, 0.9968339838341111, 0.9083993410410904, 0.09562098326748321, 0.972452255645608, 0.9599849021029546, 0.9535733543777504, 0.828039551137007, 0.1656079102274014, 0.9859884137700962, 0.9602513838512639, 0.6207497844950906, 0.37833279349128884, 0.21355706288789325, 0.6788063784650893, 0.09915149348366473, 0.9762709115028004, 0.979494570874306, 0.9869556888363855, 0.9385277433709048, 0.06010453685557342, 0.9386914432443966, 0.9589650983844465, 0.8209521438958858, 0.16985216770259706, 0.9930134091688102, 0.993954943334588, 0.7343091633710167, 0.25765233802491816, 0.9973917175484875, 0.981531039340791, 0.9715114745927892, 0.9591903893250597, 0.9739243619093354, 0.42387907657821167, 0.5769465208981215, 0.9256431359160574, 0.9863122001697764, 0.9930456502416786, 0.5591611454792452, 0.4349031131505241, 0.9815739580004968, 0.9810620507853169, 0.945897566772142, 0.11557003204766746, 0.8552182371527393, 0.9717660430715288, 0.9792615052164918, 0.9600403980590186, 0.9686400341487011, 0.888471276816394, 0.9596812006631631, 0.939779434068083, 0.4077521198685093, 0.5318505911328382, 0.05318505911328382, 0.2620453254405906, 0.19057841850224774, 0.5399721857563685, 0.9623649928954462, 0.9891062731515753, 0.9682260731763889, 0.9636869154586154, 0.994966933277533, 0.9233037785234587, 0.9724899178494746, 0.23758175488470737, 0.03751290866600643, 0.3751290866600643, 0.3501204808827266, 0.9601641083083955, 0.9940534152490343, 0.9821969057028064, 0.8491988465773788, 0.1053970199652775, 0.04517015141369036, 0.947693495495283, 0.9809323784913934, 0.9846178873100866, 0.9650309101457454, 0.9848479518410123, 0.8562032842519134, 0.14368468908135557, 0.3674009262336855, 0.6313852954534447, 0.38278843098873466, 0.17460524922293158, 0.44322870956590327, 0.9625841544914114, 0.46032299787288095, 0.5349699705009157, 0.980027194789118, 0.9663027393532831, 0.12584353789794467, 0.8599308423026218, 0.4093357807241698, 0.542093331229306, 0.044252516835045386, 0.9649632941604452, 0.3622865599343247, 0.6306469747004911, 0.12066833083208482, 0.14480199699850177, 0.7240099849925089, 0.9593592005731549, 0.5064195310529502, 0.260444330255803, 0.2328214467438239, 0.9667406200129692, 0.9892691947119411, 0.9767002535449614, 0.6203778671839043, 0.3722267203103426, 0.9787364539095936, 0.9650467125071013, 0.9904633258749097, 0.9475998069744773, 0.052644433720804296, 0.9573932033798656, 0.9529906911852478, 0.9638526915574486, 0.9547162226209424, 0.9316890940546242, 0.9977521877883457, 0.9672018611587809, 0.9031736228106766, 0.41141996795584485, 0.10285499198896121, 0.4799899626151523, 0.9599482020397537, 0.015736855771143504, 0.03147371154228701, 0.9589007288468931, 0.9544636404976371, 0.9480276302526816, 0.46067386924511916, 0.529774949631887, 0.23826732349614113, 0.7346575807797685, 0.9577049449117431, 0.053241951039337584, 0.4791775593540383, 0.463204974042237, 0.9683276968282449, 0.9776945800451866, 0.985680221028786, 0.6247281164006974, 0.006185426895056409, 0.22576808166955895, 0.14535753203382562, 0.06482380235803424, 0.11575678992506115, 0.24540439464112965, 0.5695234064313008, 0.9641936020408804, 0.9878550967934405, 0.9771323438206576, 0.03152039818776315, 0.9633118341020994, 0.5573921870354832, 0.11568517089415689, 0.31550501152951876, 0.975588745280194, 0.9878990967236548, 0.9803702935487144, 0.9773916818710529, 0.6816302959420558, 0.028108465812043536, 0.2881117745734463, 0.7582972141836699, 0.23696787943239683, 0.9828067125090889, 0.9829996327679603, 0.9773309891240446, 0.9454105173407776, 0.9976991016599287, 0.36704499265409674, 0.6303598786885574, 0.938213915594061, 0.9903914325241492, 0.9640155476044606, 0.1719524048860232, 0.8200807002256492, 0.2780895415183037, 0.5788802700993261, 0.14188241914199168, 0.6510187023454108, 0.33568151839685245, 0.38038880061176084, 0.6191434733361639, 0.9896823216818658, 0.9835259407934612, 0.5560126843100553, 0.13900317107751384, 0.2953817385397169, 0.9757541334796259, 0.8695222288887882, 0.12668535785134663, 0.9534010540215374, 0.96149113230162, 0.997390784172662, 0.9671704438018631, 0.9501589088881902, 0.7353163918734001, 0.2545325971869462, 0.9817580280705297, 0.9901672368061091, 0.9859658282100138, 0.9701215541181032, 0.860666227315003, 0.12518781488218225, 0.15671071426895444, 0.8283280611359021, 0.9878032927938541, 0.9767464753101809, 0.9582416289585917, 0.8270613892131897, 0.16081749234700912, 0.9599277860371973, 0.9761734643820622, 0.28152257299426936, 0.692978641216663, 0.9948134820737459, 0.9547978085949002, 0.5212137033117883, 0.4703635859155163, 0.997177945136356, 0.968742192550311, 0.9440437232376682, 0.9680464544068319, 0.9798167460916047, 0.9419499211261434, 0.3149101946008377, 0.10234581324527224, 0.06298203892016753, 0.4330015175761518, 0.0944730583802513, 0.14538545654508817, 0.8387622492985856, 0.9433520876267033, 0.056488148959682835, 0.9621098972171626, 0.8981229054165456, 0.6618774232701529, 0.15709931058163162, 0.06696036188725282, 0.0901389486943788, 0.023178586807125978, 0.9981816719096279, 0.9564508576882652, 0.9845422646534497, 0.782568487226809, 0.2152063339873725, 0.989374571743287, 0.9407382940320326, 0.19989127890957573, 0.3492353378650059, 0.17461766893250294, 0.08271363265223823, 0.1929984761885559, 0.7000892935004422, 0.29306063448855724, 0.9183302829949592, 0.07985480721695297, 0.9910786122809783, 0.906143654610781, 0.970748668767099, 0.39693502219802185, 0.5954025332970327, 0.6425636043744535, 0.32128180218722674, 0.0057964749297865145, 0.7187628912935278, 0.2724343216999662, 0.991462251730989, 0.9529287285391673, 0.7151047258552016, 0.22937321395355523, 0.05531942218879861, 0.9929373942618714, 0.9810069218997354, 0.960154418199319, 0.9843790434360414, 0.9657475239431019, 0.9674879934648389, 0.9906629358834337, 0.9967017463552563], \"Term\": [\"20\", \"3\", \"30\", \"absenc\", \"absent\", \"accord\", \"alreadi\", \"announc\", \"anoth\", \"answer\", \"appli\", \"appli\", \"arriv\", \"back\", \"base\", \"bodi\", \"bodi\", \"bought\", \"bought\", \"box\", \"break\", \"burn\", \"busi\", \"call\", \"call\", \"campaign\", \"car\", \"car\", \"care\", \"carri\", \"center\", \"chang\", \"chang\", \"charg\", \"cigar\", \"cigarett\", \"cigarett\", \"clean\", \"clean\", \"clean\", \"clock\", \"close\", \"code\", \"color\", \"combin\", \"combin\", \"come\", \"compani\", \"compani\", \"compar\", \"comparison\", \"concern\", \"concern\", \"conjunct\", \"connect\", \"consider\", \"consult\", \"contact\", \"continu\", \"continu\", \"cool\", \"correspond\", \"cp\", \"current\", \"current\", \"custom\", \"dark\", \"date\", \"day\", \"day\", \"deal\", \"declar\", \"defect\", \"demand\", \"design\", \"devic\", \"dialogu\", \"differ\", \"differ\", \"differ\", \"difficult\", \"difficult\", \"difficult\", \"distinguish\", \"drive\", \"earthquak\", \"electr\", \"end\", \"enjoy\", \"enter\", \"even\", \"even\", \"even\", \"even\", \"everi\", \"exchang\", \"famili\", \"feel\", \"feel\", \"feel\", \"felt\", \"finish\", \"flap\", \"free\", \"fresh\", \"glo\", \"glo\", \"glow\", \"glow\", \"good\", \"good\", \"good\", \"gradual\", \"guid\", \"guid\", \"half\", \"hand\", \"hard\", \"hard\", \"heat\", \"heat\", \"heat\", \"heavi\", \"home\", \"home\", \"hope\", \"hope\", \"hope\", \"hot\", \"ico\", \"ico\", \"ico\", \"icoco\", \"improv\", \"inconveni\", \"increas\", \"increas\", \"inform\", \"inquiri\", \"insert\", \"insid\", \"insid\", \"iqo\", \"item\", \"kent\", \"kind\", \"left\", \"like\", \"limit\", \"liquid\", \"littl\", \"littl\", \"littl\", \"long\", \"long\", \"long\", \"lot\", \"love\", \"machin\", \"main\", \"main\", \"mani\", \"mani\", \"may\", \"menthol\", \"menthol\", \"menthol\", \"method\", \"middl\", \"mood\", \"neo\", \"neo\", \"neo\", \"neo\", \"neostick\", \"neostick\", \"neostick\", \"neostick\", \"nicotin\", \"noth\", \"occasion\", \"occasion\", \"occupi\", \"one\", \"one\", \"one\", \"opinion\", \"origin\", \"other\", \"outsid\", \"paper\", \"paper\", \"paper\", \"particular\", \"particular\", \"person\", \"phone\", \"place\", \"plu\", \"plume\", \"point\", \"point\", \"possess\", \"power\", \"previous\", \"price\", \"price\", \"problem\", \"problem\", \"problem\", \"product\", \"product\", \"program\", \"program\", \"properli\", \"pt\", \"purchas\", \"purchas\", \"purchas\", \"questionnair\", \"reason\", \"reason\", \"recept\", \"recommend\", \"recycl\", \"regist\", \"registr\", \"regular\", \"regular\", \"replac\", \"request\", \"respond\", \"return\", \"right\", \"right\", \"roll\", \"roll\", \"room\", \"second\", \"see\", \"seem\", \"seem\", \"self\", \"send\", \"seri\", \"seri\", \"show\", \"smaller\", \"smell\", \"smell\", \"smoke\", \"somewhat\", \"sound\", \"special\", \"start\", \"stay\", \"stick\", \"stick\", \"stick\", \"stick\", \"stick\", \"stop\", \"stop\", \"suck\", \"suck\", \"suit\", \"talk\", \"tast\", \"tast\", \"tast\", \"tast\", \"tast\", \"tech\", \"telephon\", \"thin\", \"thing\", \"thing\", \"think\", \"thinner\", \"time\", \"time\", \"time\", \"time\", \"time\", \"tobacco\", \"tobacco\", \"togeth\", \"togeth\", \"told\", \"transfer\", \"transmiss\", \"tri\", \"tri\", \"troubl\", \"troubl\", \"type\", \"type\", \"type\", \"unsatisfactori\", \"us\", \"use\", \"use\", \"use\", \"variou\", \"voic\", \"want\", \"warranti\", \"way\", \"whether\", \"without\", \"work\"]}, \"R\": 30, \"lambda.step\": 0.01, \"plot.opts\": {\"xlab\": \"PC1\", \"ylab\": \"PC2\"}, \"topic.order\": [1, 4, 2, 5, 3]};\n",
       "\n",
       "function LDAvis_load_lib(url, callback){\n",
       "  var s = document.createElement('script');\n",
       "  s.src = url;\n",
       "  s.async = true;\n",
       "  s.onreadystatechange = s.onload = callback;\n",
       "  s.onerror = function(){console.warn(\"failed to load library \" + url);};\n",
       "  document.getElementsByTagName(\"head\")[0].appendChild(s);\n",
       "}\n",
       "\n",
       "if(typeof(LDAvis) !== \"undefined\"){\n",
       "   // already loaded: just create the visualization\n",
       "   !function(LDAvis){\n",
       "       new LDAvis(\"#\" + \"ldavis_el1459621938638384804834573835\", ldavis_el1459621938638384804834573835_data);\n",
       "   }(LDAvis);\n",
       "}else if(typeof define === \"function\" && define.amd){\n",
       "   // require.js is available: use it to load d3/LDAvis\n",
       "   require.config({paths: {d3: \"https://cdnjs.cloudflare.com/ajax/libs/d3/3.5.5/d3.min\"}});\n",
       "   require([\"d3\"], function(d3){\n",
       "      window.d3 = d3;\n",
       "      LDAvis_load_lib(\"https://cdn.rawgit.com/bmabey/pyLDAvis/files/ldavis.v1.0.0.js\", function(){\n",
       "        new LDAvis(\"#\" + \"ldavis_el1459621938638384804834573835\", ldavis_el1459621938638384804834573835_data);\n",
       "      });\n",
       "    });\n",
       "}else{\n",
       "    // require.js not available: dynamically load d3 & LDAvis\n",
       "    LDAvis_load_lib(\"https://cdnjs.cloudflare.com/ajax/libs/d3/3.5.5/d3.min.js\", function(){\n",
       "         LDAvis_load_lib(\"https://cdn.rawgit.com/bmabey/pyLDAvis/files/ldavis.v1.0.0.js\", function(){\n",
       "                 new LDAvis(\"#\" + \"ldavis_el1459621938638384804834573835\", ldavis_el1459621938638384804834573835_data);\n",
       "            })\n",
       "         });\n",
       "}\n",
       "</script>"
      ],
      "text/plain": [
       "<IPython.core.display.HTML object>"
      ]
     },
     "execution_count": 294,
     "metadata": {},
     "output_type": "execute_result"
    }
   ],
   "source": [
    "#display visulaization\n",
    "pyLDAvis.display(LDAvis_prepared)\n",
    "#the displayed visualization is based on a different seed. Re-run it again to match the output being presented in the documentation.\n",
    "\n"
   ]
  },
  {
   "cell_type": "code",
   "execution_count": 68,
   "metadata": {
    "collapsed": true
   },
   "outputs": [],
   "source": [
    "# p = pyLDAvis.gensim.prepare(topic_model, corpus, dictionary)\n",
    "pyLDAvis.save_html(LDAvis_prepared, 'lda2.html')"
   ]
  },
  {
   "cell_type": "code",
   "execution_count": null,
   "metadata": {
    "collapsed": true
   },
   "outputs": [],
   "source": []
  }
 ],
 "metadata": {
  "kernelspec": {
   "display_name": "Python 3",
   "language": "python",
   "name": "python3"
  },
  "language_info": {
   "codemirror_mode": {
    "name": "ipython",
    "version": 3
   },
   "file_extension": ".py",
   "mimetype": "text/x-python",
   "name": "python",
   "nbconvert_exporter": "python",
   "pygments_lexer": "ipython3",
   "version": "3.6.3"
  }
 },
 "nbformat": 4,
 "nbformat_minor": 2
}
